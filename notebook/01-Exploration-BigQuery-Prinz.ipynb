{
 "cells": [
  {
   "cell_type": "markdown",
   "metadata": {
    "Collapsed": "false",
    "toc-hr-collapsed": false
   },
   "source": [
    "# Environment"
   ]
  },
  {
   "cell_type": "markdown",
   "metadata": {
    "Collapsed": "false"
   },
   "source": [
    "## Libraries"
   ]
  },
  {
   "cell_type": "code",
   "execution_count": 1,
   "metadata": {
    "Collapsed": "false"
   },
   "outputs": [],
   "source": [
    "import os, subprocess, json, requests, getpass, urllib.parse, google.cloud.bigquery as bigquery, sys, pathlib, \\\n",
    "seaborn as sns, pandas as pd, matplotlib.pyplot as plt\n",
    "from bs4 import BeautifulSoup"
   ]
  },
  {
   "cell_type": "markdown",
   "metadata": {
    "Collapsed": "false"
   },
   "source": [
    "## Specifying the Working Directory"
   ]
  },
  {
   "cell_type": "code",
   "execution_count": 2,
   "metadata": {
    "Collapsed": "false",
    "code_folding": []
   },
   "outputs": [],
   "source": [
    "workingdir=os.getcwd()\n",
    "d=[d for d in os.listdir(workingdir)]\n",
    "n=0\n",
    "while not set(['notebook']).issubset(set(d)):\n",
    "    workingdir=str(pathlib.Path(workingdir).parents[0])\n",
    "\n",
    "    d=[d for d in os.listdir(str(workingdir))]\n",
    "    n+=1\n",
    "    if n>5:\n",
    "        break\n",
    "sys.path.insert(0, workingdir)\n",
    "os.chdir(workingdir)"
   ]
  },
  {
   "cell_type": "markdown",
   "metadata": {
    "Collapsed": "false"
   },
   "source": [
    "## Specifying GCP-Related Variables "
   ]
  },
  {
   "cell_type": "code",
   "execution_count": 3,
   "metadata": {
    "Collapsed": "false"
   },
   "outputs": [
    {
     "name": "stdout",
     "output_type": "stream",
     "text": [
      "axa-ch-machine-learning-dev\n"
     ]
    }
   ],
   "source": [
    "os.environ['PROJECT_ID'] = subprocess.run('gcloud config list project --format \"value(core.project)\"', \n",
    "                                          shell=True, check=True, stdout=subprocess.PIPE) \\\n",
    "                                            .stdout.decode().replace('\\n', '').replace('\\r', '')\n",
    "print(os.environ['PROJECT_ID'])"
   ]
  },
  {
   "cell_type": "code",
   "execution_count": 4,
   "metadata": {
    "Collapsed": "false"
   },
   "outputs": [],
   "source": [
    "os.environ['BUCKET_NAME']='axa-ch-machine-learning-poc-dev'"
   ]
  },
  {
   "cell_type": "code",
   "execution_count": 5,
   "metadata": {
    "Collapsed": "false"
   },
   "outputs": [],
   "source": [
    "try:\n",
    "    tmp=os.environ['PROJECT_ID']\n",
    "except:\n",
    "    print('Env variable PROJECT not defined!') \n",
    "\n",
    "try:\n",
    "    tmp=os.environ['BUCKET_NAME']\n",
    "except:\n",
    "    print('Env variable BUCKET_NAME not defined!') \n",
    "    \n",
    "try:    \n",
    "    tmp=os.environ['GOOGLE_APPLICATION_CREDENTIALS']\n",
    "except:\n",
    "    print('Env variable GOOGLE_APPLICATION_CREDENTIALS not defined!') \n",
    "\n",
    "try:\n",
    "    tmp=os.environ['REQUESTS_CA_BUNDLE']\n",
    "except:\n",
    "    print('Env variable REQUESTS_CA_BUNDLE not defined!') \n",
    "\n",
    "try:\n",
    "    tmp=os.environ['AXA_CH_CA_BUNDLE']\n",
    "except:\n",
    "    print('Env variable AXA_CA_CA_BUNDLE not defined!') "
   ]
  },
  {
   "cell_type": "markdown",
   "metadata": {
    "Collapsed": "false"
   },
   "source": [
    "## Does the Connection Work?"
   ]
  },
  {
   "cell_type": "code",
   "execution_count": 6,
   "metadata": {
    "Collapsed": "false"
   },
   "outputs": [],
   "source": [
    "use_proxy='Y'\n",
    "proxies = {\n",
    "    'https': os.environ['HTTPS_PROXY'],    \n",
    "    'http': os.environ['HTTP_PROXY']\n",
    "}  "
   ]
  },
  {
   "cell_type": "code",
   "execution_count": 7,
   "metadata": {
    "Collapsed": "false"
   },
   "outputs": [
    {
     "name": "stdout",
     "output_type": "stream",
     "text": [
      "\n",
      "trying to access:https://www.google.com\n",
      "=>OK text/html; charset=ISO-8859-1\n",
      "\n",
      "trying to access:http://www.google.com\n",
      "=>OK text/html; charset=ISO-8859-1\n",
      "\n",
      "trying to access:https://www.example.com\n",
      "=>OK text/html; charset=UTF-8\n",
      "\n",
      "trying to access:http://www.example.com\n",
      "=>OK text/html; charset=UTF-8\n",
      "\n",
      "trying to access:https://github.com/j0hannes/cutter-ng\n",
      "=>OK text/html; charset=utf-8\n"
     ]
    }
   ],
   "source": [
    "list_url=['https://www.google.com',\n",
    "          'http://www.google.com',\n",
    "          'https://www.example.com',\n",
    "          'http://www.example.com',\n",
    "          'https://github.com/j0hannes/cutter-ng']\n",
    "\n",
    "for url in list_url:\n",
    "    print('')\n",
    "    print('trying to access:'+url)\n",
    "    try:\n",
    "        if use_proxy=='N':\n",
    "            r = requests.get(url)\n",
    "        else:\n",
    "            # SSL deactivated\n",
    "            #r = requests.get(url,proxies=proxies,verify=False)\n",
    "            r = requests.get(url,proxies=proxies,verify=True)\n",
    "            \n",
    "        if r.status_code == requests.codes.ok:\n",
    "            print('=>OK',r.headers['content-type'])\n",
    "        else:\n",
    "            # 407 Proxy Authentication Required\n",
    "            print ('=> ??', r.status_code)\n",
    "    except Exception as inst:\n",
    "        print('=>FAILED')\n",
    "        print(type(inst))    # the exception instance\n",
    "        print(inst.args)     # arguments stored in .args\n",
    "        print(inst)"
   ]
  },
  {
   "cell_type": "markdown",
   "metadata": {
    "Collapsed": "false"
   },
   "source": [
    "# Exploratory Data Analysis"
   ]
  },
  {
   "cell_type": "code",
   "execution_count": 8,
   "metadata": {
    "Collapsed": "false"
   },
   "outputs": [],
   "source": [
    "client = bigquery.Client()"
   ]
  },
  {
   "cell_type": "code",
   "execution_count": 9,
   "metadata": {
    "Collapsed": "false"
   },
   "outputs": [],
   "source": [
    "query = \"\"\"SELECT\n",
    "  *\n",
    "FROM\n",
    "  `axa-ch-machine-learning-dev.nlp_text_classification.stackoverflow_posts_questions_small`\"\"\"\n",
    "df_small = client.query(query).to_dataframe()"
   ]
  },
  {
   "cell_type": "code",
   "execution_count": 10,
   "metadata": {
    "Collapsed": "false"
   },
   "outputs": [
    {
     "data": {
      "text/html": [
       "<div>\n",
       "<style scoped>\n",
       "    .dataframe tbody tr th:only-of-type {\n",
       "        vertical-align: middle;\n",
       "    }\n",
       "\n",
       "    .dataframe tbody tr th {\n",
       "        vertical-align: top;\n",
       "    }\n",
       "\n",
       "    .dataframe thead th {\n",
       "        text-align: right;\n",
       "    }\n",
       "</style>\n",
       "<table border=\"1\" class=\"dataframe\">\n",
       "  <thead>\n",
       "    <tr style=\"text-align: right;\">\n",
       "      <th></th>\n",
       "      <th>id</th>\n",
       "      <th>title</th>\n",
       "      <th>body</th>\n",
       "      <th>accepted_answer_id</th>\n",
       "      <th>answer_count</th>\n",
       "      <th>comment_count</th>\n",
       "      <th>community_owned_date</th>\n",
       "      <th>creation_date</th>\n",
       "      <th>favorite_count</th>\n",
       "      <th>last_activity_date</th>\n",
       "      <th>last_edit_date</th>\n",
       "      <th>last_editor_display_name</th>\n",
       "      <th>last_editor_user_id</th>\n",
       "      <th>owner_display_name</th>\n",
       "      <th>owner_user_id</th>\n",
       "      <th>parent_id</th>\n",
       "      <th>post_type_id</th>\n",
       "      <th>score</th>\n",
       "      <th>tags</th>\n",
       "      <th>view_count</th>\n",
       "    </tr>\n",
       "  </thead>\n",
       "  <tbody>\n",
       "    <tr>\n",
       "      <td>0</td>\n",
       "      <td>22804521</td>\n",
       "      <td>how to push my github repo into openshift and ...</td>\n",
       "      <td>&lt;p&gt;i'm newbie to openshift and git.I've my rep...</td>\n",
       "      <td>NaN</td>\n",
       "      <td>2</td>\n",
       "      <td>1</td>\n",
       "      <td>None</td>\n",
       "      <td>2014-04-02 07:34:06.840000+00:00</td>\n",
       "      <td>NaN</td>\n",
       "      <td>2014-09-02 23:53:30.343000+00:00</td>\n",
       "      <td>NaT</td>\n",
       "      <td>None</td>\n",
       "      <td>NaN</td>\n",
       "      <td>None</td>\n",
       "      <td>3488259.0</td>\n",
       "      <td>None</td>\n",
       "      <td>1</td>\n",
       "      <td>0</td>\n",
       "      <td>gitgithubsftpopenshift</td>\n",
       "      <td>256</td>\n",
       "    </tr>\n",
       "    <tr>\n",
       "      <td>1</td>\n",
       "      <td>47530134</td>\n",
       "      <td>`Trace: TypeError: React.__spread is not a fun...</td>\n",
       "      <td>&lt;p&gt;I was seeing a warning about this when I wa...</td>\n",
       "      <td>NaN</td>\n",
       "      <td>1</td>\n",
       "      <td>15</td>\n",
       "      <td>None</td>\n",
       "      <td>2017-11-28 11:11:28.023000+00:00</td>\n",
       "      <td>NaN</td>\n",
       "      <td>2017-11-28 12:49:25.707000+00:00</td>\n",
       "      <td>2017-11-28 12:15:47.737000+00:00</td>\n",
       "      <td>None</td>\n",
       "      <td>4015856.0</td>\n",
       "      <td>None</td>\n",
       "      <td>4015856.0</td>\n",
       "      <td>None</td>\n",
       "      <td>1</td>\n",
       "      <td>0</td>\n",
       "      <td>reactjsreact-reduxbabel</td>\n",
       "      <td>256</td>\n",
       "    </tr>\n",
       "    <tr>\n",
       "      <td>2</td>\n",
       "      <td>35257755</td>\n",
       "      <td>Append mouseover event to img in a div with jQ...</td>\n",
       "      <td>&lt;p&gt;I am trying to append a mouseover event to ...</td>\n",
       "      <td>35257815.0</td>\n",
       "      <td>1</td>\n",
       "      <td>0</td>\n",
       "      <td>None</td>\n",
       "      <td>2016-02-07 19:04:45.170000+00:00</td>\n",
       "      <td>NaN</td>\n",
       "      <td>2016-02-07 20:30:15.287000+00:00</td>\n",
       "      <td>NaT</td>\n",
       "      <td>None</td>\n",
       "      <td>NaN</td>\n",
       "      <td>None</td>\n",
       "      <td>5448626.0</td>\n",
       "      <td>None</td>\n",
       "      <td>1</td>\n",
       "      <td>0</td>\n",
       "      <td>jquery</td>\n",
       "      <td>256</td>\n",
       "    </tr>\n",
       "    <tr>\n",
       "      <td>3</td>\n",
       "      <td>31909648</td>\n",
       "      <td>Connect on website with HttpWebRequest</td>\n",
       "      <td>&lt;p&gt;I tried to use HttpWebRequest to connect on...</td>\n",
       "      <td>NaN</td>\n",
       "      <td>0</td>\n",
       "      <td>3</td>\n",
       "      <td>None</td>\n",
       "      <td>2015-08-09 23:00:17.090000+00:00</td>\n",
       "      <td>NaN</td>\n",
       "      <td>2015-08-10 16:59:35.420000+00:00</td>\n",
       "      <td>2015-08-10 16:59:35.420000+00:00</td>\n",
       "      <td>None</td>\n",
       "      <td>5182869.0</td>\n",
       "      <td>None</td>\n",
       "      <td>5182869.0</td>\n",
       "      <td>None</td>\n",
       "      <td>1</td>\n",
       "      <td>0</td>\n",
       "      <td>c#httpwebrequestwebclientwebclient-download</td>\n",
       "      <td>256</td>\n",
       "    </tr>\n",
       "    <tr>\n",
       "      <td>4</td>\n",
       "      <td>50601033</td>\n",
       "      <td>HTTP outbound gateway - uri variable - encoding</td>\n",
       "      <td>&lt;p&gt;I have a http outbound gateway, which requi...</td>\n",
       "      <td>NaN</td>\n",
       "      <td>0</td>\n",
       "      <td>6</td>\n",
       "      <td>None</td>\n",
       "      <td>2018-05-30 09:25:08.833000+00:00</td>\n",
       "      <td>NaN</td>\n",
       "      <td>2018-05-30 14:23:15.030000+00:00</td>\n",
       "      <td>2018-05-30 14:23:15.030000+00:00</td>\n",
       "      <td>None</td>\n",
       "      <td>2017299.0</td>\n",
       "      <td>None</td>\n",
       "      <td>2017299.0</td>\n",
       "      <td>None</td>\n",
       "      <td>1</td>\n",
       "      <td>0</td>\n",
       "      <td>springspring-integrationgatewayoutbound</td>\n",
       "      <td>256</td>\n",
       "    </tr>\n",
       "  </tbody>\n",
       "</table>\n",
       "</div>"
      ],
      "text/plain": [
       "         id                                              title  \\\n",
       "0  22804521  how to push my github repo into openshift and ...   \n",
       "1  47530134  `Trace: TypeError: React.__spread is not a fun...   \n",
       "2  35257755  Append mouseover event to img in a div with jQ...   \n",
       "3  31909648             Connect on website with HttpWebRequest   \n",
       "4  50601033    HTTP outbound gateway - uri variable - encoding   \n",
       "\n",
       "                                                body  accepted_answer_id  \\\n",
       "0  <p>i'm newbie to openshift and git.I've my rep...                 NaN   \n",
       "1  <p>I was seeing a warning about this when I wa...                 NaN   \n",
       "2  <p>I am trying to append a mouseover event to ...          35257815.0   \n",
       "3  <p>I tried to use HttpWebRequest to connect on...                 NaN   \n",
       "4  <p>I have a http outbound gateway, which requi...                 NaN   \n",
       "\n",
       "   answer_count  comment_count community_owned_date  \\\n",
       "0             2              1                 None   \n",
       "1             1             15                 None   \n",
       "2             1              0                 None   \n",
       "3             0              3                 None   \n",
       "4             0              6                 None   \n",
       "\n",
       "                     creation_date  favorite_count  \\\n",
       "0 2014-04-02 07:34:06.840000+00:00             NaN   \n",
       "1 2017-11-28 11:11:28.023000+00:00             NaN   \n",
       "2 2016-02-07 19:04:45.170000+00:00             NaN   \n",
       "3 2015-08-09 23:00:17.090000+00:00             NaN   \n",
       "4 2018-05-30 09:25:08.833000+00:00             NaN   \n",
       "\n",
       "                last_activity_date                   last_edit_date  \\\n",
       "0 2014-09-02 23:53:30.343000+00:00                              NaT   \n",
       "1 2017-11-28 12:49:25.707000+00:00 2017-11-28 12:15:47.737000+00:00   \n",
       "2 2016-02-07 20:30:15.287000+00:00                              NaT   \n",
       "3 2015-08-10 16:59:35.420000+00:00 2015-08-10 16:59:35.420000+00:00   \n",
       "4 2018-05-30 14:23:15.030000+00:00 2018-05-30 14:23:15.030000+00:00   \n",
       "\n",
       "  last_editor_display_name  last_editor_user_id owner_display_name  \\\n",
       "0                     None                  NaN               None   \n",
       "1                     None            4015856.0               None   \n",
       "2                     None                  NaN               None   \n",
       "3                     None            5182869.0               None   \n",
       "4                     None            2017299.0               None   \n",
       "\n",
       "   owner_user_id parent_id  post_type_id  score  \\\n",
       "0      3488259.0      None             1      0   \n",
       "1      4015856.0      None             1      0   \n",
       "2      5448626.0      None             1      0   \n",
       "3      5182869.0      None             1      0   \n",
       "4      2017299.0      None             1      0   \n",
       "\n",
       "                                          tags  view_count  \n",
       "0                       gitgithubsftpopenshift         256  \n",
       "1                      reactjsreact-reduxbabel         256  \n",
       "2                                       jquery         256  \n",
       "3  c#httpwebrequestwebclientwebclient-download         256  \n",
       "4      springspring-integrationgatewayoutbound         256  "
      ]
     },
     "execution_count": 10,
     "metadata": {},
     "output_type": "execute_result"
    }
   ],
   "source": [
    "df_small.head()"
   ]
  },
  {
   "cell_type": "markdown",
   "metadata": {
    "Collapsed": "false"
   },
   "source": [
    "## Number of Views"
   ]
  },
  {
   "cell_type": "code",
   "execution_count": 11,
   "metadata": {
    "Collapsed": "false"
   },
   "outputs": [
    {
     "data": {
      "text/plain": [
       "<matplotlib.axes._subplots.AxesSubplot at 0x215ebd10d30>"
      ]
     },
     "execution_count": 11,
     "metadata": {},
     "output_type": "execute_result"
    },
    {
     "data": {
      "image/png": "[encoded data removed]",
      "text/plain": [
       "<Figure size 432x288 with 1 Axes>"
      ]
     },
     "metadata": {
      "needs_background": "light"
     },
     "output_type": "display_data"
    }
   ],
   "source": [
    "df_small['view_count'].plot(kind='hist', xlim=[0, 1000], bins=10000)"
   ]
  },
  {
   "cell_type": "markdown",
   "metadata": {
    "Collapsed": "false"
   },
   "source": [
    "## Number of Answers"
   ]
  },
  {
   "cell_type": "code",
   "execution_count": 12,
   "metadata": {
    "Collapsed": "false"
   },
   "outputs": [
    {
     "data": {
      "text/plain": [
       "<matplotlib.axes._subplots.AxesSubplot at 0x215f4d0aef0>"
      ]
     },
     "execution_count": 12,
     "metadata": {},
     "output_type": "execute_result"
    },
    {
     "data": {
      "image/png": "[encoded data removed]",
      "text/plain": [
       "<Figure size 432x288 with 1 Axes>"
      ]
     },
     "metadata": {
      "needs_background": "light"
     },
     "output_type": "display_data"
    }
   ],
   "source": [
    "df_small['answer_count'].plot(kind='hist', bins=35)"
   ]
  },
  {
   "cell_type": "markdown",
   "metadata": {
    "Collapsed": "false"
   },
   "source": [
    "## Answer-View Ratio"
   ]
  },
  {
   "cell_type": "code",
   "execution_count": 13,
   "metadata": {
    "Collapsed": "false"
   },
   "outputs": [
    {
     "data": {
      "text/plain": [
       "<matplotlib.axes._subplots.AxesSubplot at 0x215f4dda898>"
      ]
     },
     "execution_count": 13,
     "metadata": {},
     "output_type": "execute_result"
    },
    {
     "data": {
      "image/png": "[encoded data removed]",
      "text/plain": [
       "<Figure size 432x288 with 1 Axes>"
      ]
     },
     "metadata": {
      "needs_background": "light"
     },
     "output_type": "display_data"
    }
   ],
   "source": [
    "df_small['view_answer_ratio'] = df_small['answer_count']/df_small['view_count']\n",
    "df_small['view_answer_ratio'].plot(kind='hist')"
   ]
  },
  {
   "cell_type": "markdown",
   "metadata": {
    "Collapsed": "false"
   },
   "source": [
    "## Correlation: Views and Answers"
   ]
  },
  {
   "cell_type": "code",
   "execution_count": 14,
   "metadata": {
    "Collapsed": "false"
   },
   "outputs": [
    {
     "name": "stderr",
     "output_type": "stream",
     "text": [
      "C:\\Users\\C311723\\.conda\\envs\\env_nlp_text_class\\lib\\site-packages\\pandas\\plotting\\_matplotlib\\core.py:420: FutureWarning: Converting timezone-aware DatetimeArray to timezone-naive ndarray with 'datetime64[ns]' dtype. In the future, this will return an ndarray with 'object' dtype where each element is a 'pandas.Timestamp' with the correct 'tz'.\n",
      "\tTo accept the future behavior, pass 'dtype=object'.\n",
      "\tTo keep the old behavior, pass 'dtype=\"datetime64[ns]\"'.\n",
      "  numeric_data[col] = np.asarray(numeric_data[col])\n"
     ]
    },
    {
     "data": {
      "text/plain": [
       "<matplotlib.axes._subplots.AxesSubplot at 0x215f4e69c88>"
      ]
     },
     "execution_count": 14,
     "metadata": {},
     "output_type": "execute_result"
    },
    {
     "data": {
      "image/png": "[encoded data removed]",
      "text/plain": [
       "<Figure size 432x288 with 1 Axes>"
      ]
     },
     "metadata": {
      "needs_background": "light"
     },
     "output_type": "display_data"
    }
   ],
   "source": [
    "df_small.plot(x='view_count', y='answer_count', kind='scatter', xlim=[0, 200000])"
   ]
  },
  {
   "cell_type": "code",
   "execution_count": 15,
   "metadata": {
    "Collapsed": "false"
   },
   "outputs": [
    {
     "data": {
      "text/plain": [
       "<matplotlib.axes._subplots.AxesSubplot at 0x215f4e56518>"
      ]
     },
     "execution_count": 15,
     "metadata": {},
     "output_type": "execute_result"
    },
    {
     "data": {
      "image/png": "[encoded data removed]",
      "text/plain": [
       "<Figure size 432x288 with 1 Axes>"
      ]
     },
     "metadata": {
      "needs_background": "light"
     },
     "output_type": "display_data"
    }
   ],
   "source": [
    "df_small.plot(x='view_count', y='comment_count', kind='scatter', xlim=[0, 200000])"
   ]
  },
  {
   "cell_type": "code",
   "execution_count": 16,
   "metadata": {
    "Collapsed": "false"
   },
   "outputs": [],
   "source": [
    "#sns.pairplot(x_vars=[\"view_count\"], y_vars=[\"answer_count\"], data=df_small, hue=\"tags\", size=5)"
   ]
  },
  {
   "cell_type": "markdown",
   "metadata": {
    "Collapsed": "false"
   },
   "source": [
    "## Score"
   ]
  },
  {
   "cell_type": "markdown",
   "metadata": {
    "Collapsed": "false"
   },
   "source": [
    "https://meta.stackexchange.com/questions/229255/what-is-the-score-of-a-post\n",
    "number of upvotes - number of downvotes"
   ]
  },
  {
   "cell_type": "code",
   "execution_count": 17,
   "metadata": {
    "Collapsed": "false"
   },
   "outputs": [
    {
     "data": {
      "text/plain": [
       "<matplotlib.axes._subplots.AxesSubplot at 0x215f4f59d68>"
      ]
     },
     "execution_count": 17,
     "metadata": {},
     "output_type": "execute_result"
    },
    {
     "data": {
      "image/png": "[encoded data removed]",
      "text/plain": [
       "<Figure size 432x288 with 1 Axes>"
      ]
     },
     "metadata": {
      "needs_background": "light"
     },
     "output_type": "display_data"
    }
   ],
   "source": [
    "df_small['score'].plot(kind='hist', xlim=[0,100], bins=100)"
   ]
  },
  {
   "cell_type": "markdown",
   "metadata": {
    "Collapsed": "false"
   },
   "source": [
    "## Creation Date"
   ]
  },
  {
   "cell_type": "code",
   "execution_count": 18,
   "metadata": {
    "Collapsed": "false"
   },
   "outputs": [],
   "source": [
    "## Post Type"
   ]
  },
  {
   "cell_type": "code",
   "execution_count": 19,
   "metadata": {
    "Collapsed": "false"
   },
   "outputs": [],
   "source": [
    "## Tags"
   ]
  },
  {
   "cell_type": "code",
   "execution_count": 20,
   "metadata": {
    "Collapsed": "false"
   },
   "outputs": [],
   "source": [
    "##favorite count"
   ]
  },
  {
   "cell_type": "markdown",
   "metadata": {
    "Collapsed": "false"
   },
   "source": [
    "# Suggest labels from the text"
   ]
  },
  {
   "cell_type": "markdown",
   "metadata": {
    "Collapsed": "false"
   },
   "source": [
    "https://stackoverflow.com/help/tagging"
   ]
  },
  {
   "cell_type": "code",
   "execution_count": 21,
   "metadata": {
    "Collapsed": "false"
   },
   "outputs": [],
   "source": [
    "query = \"\"\"SELECT\n",
    "  *\n",
    "FROM\n",
    "  `axa-ch-machine-learning-dev.nlp_text_classification.stackoverflow_posts_questions_small`\n",
    "WHERE \n",
    "  tags = 'python'\"\"\"\n",
    "df_small_python = client.query(query).to_dataframe()"
   ]
  },
  {
   "cell_type": "code",
   "execution_count": null,
   "metadata": {
    "Collapsed": "false"
   },
   "outputs": [],
   "source": []
  },
  {
   "cell_type": "code",
   "execution_count": 22,
   "metadata": {
    "Collapsed": "false"
   },
   "outputs": [
    {
     "data": {
      "text/html": [
       "<div>\n",
       "<style scoped>\n",
       "    .dataframe tbody tr th:only-of-type {\n",
       "        vertical-align: middle;\n",
       "    }\n",
       "\n",
       "    .dataframe tbody tr th {\n",
       "        vertical-align: top;\n",
       "    }\n",
       "\n",
       "    .dataframe thead th {\n",
       "        text-align: right;\n",
       "    }\n",
       "</style>\n",
       "<table border=\"1\" class=\"dataframe\">\n",
       "  <thead>\n",
       "    <tr style=\"text-align: right;\">\n",
       "      <th></th>\n",
       "      <th>id</th>\n",
       "      <th>title</th>\n",
       "      <th>body</th>\n",
       "      <th>accepted_answer_id</th>\n",
       "      <th>answer_count</th>\n",
       "      <th>comment_count</th>\n",
       "      <th>community_owned_date</th>\n",
       "      <th>creation_date</th>\n",
       "      <th>favorite_count</th>\n",
       "      <th>last_activity_date</th>\n",
       "      <th>last_edit_date</th>\n",
       "      <th>last_editor_display_name</th>\n",
       "      <th>last_editor_user_id</th>\n",
       "      <th>owner_display_name</th>\n",
       "      <th>owner_user_id</th>\n",
       "      <th>parent_id</th>\n",
       "      <th>post_type_id</th>\n",
       "      <th>score</th>\n",
       "      <th>tags</th>\n",
       "      <th>view_count</th>\n",
       "    </tr>\n",
       "  </thead>\n",
       "  <tbody>\n",
       "    <tr>\n",
       "      <td>0</td>\n",
       "      <td>4886634</td>\n",
       "      <td>python gtk window not responding</td>\n",
       "      <td>&lt;p&gt;I process a new function and append the val...</td>\n",
       "      <td>NaN</td>\n",
       "      <td>1</td>\n",
       "      <td>1</td>\n",
       "      <td>None</td>\n",
       "      <td>2011-02-03 13:21:59.563000+00:00</td>\n",
       "      <td>NaN</td>\n",
       "      <td>2011-02-03 13:30:52.560000+00:00</td>\n",
       "      <td>NaT</td>\n",
       "      <td>None</td>\n",
       "      <td>NaN</td>\n",
       "      <td>None</td>\n",
       "      <td>532065.0</td>\n",
       "      <td>None</td>\n",
       "      <td>1</td>\n",
       "      <td>0</td>\n",
       "      <td>python</td>\n",
       "      <td>258</td>\n",
       "    </tr>\n",
       "    <tr>\n",
       "      <td>1</td>\n",
       "      <td>53653262</td>\n",
       "      <td>Smoothing a Function with multiple Curves</td>\n",
       "      <td>&lt;p&gt;I have a function that I wanted to graph, b...</td>\n",
       "      <td>NaN</td>\n",
       "      <td>2</td>\n",
       "      <td>1</td>\n",
       "      <td>None</td>\n",
       "      <td>2018-12-06 14:10:27.687000+00:00</td>\n",
       "      <td>NaN</td>\n",
       "      <td>2018-12-06 14:44:14.260000+00:00</td>\n",
       "      <td>NaT</td>\n",
       "      <td>None</td>\n",
       "      <td>NaN</td>\n",
       "      <td>None</td>\n",
       "      <td>10514313.0</td>\n",
       "      <td>None</td>\n",
       "      <td>1</td>\n",
       "      <td>0</td>\n",
       "      <td>python</td>\n",
       "      <td>23</td>\n",
       "    </tr>\n",
       "    <tr>\n",
       "      <td>2</td>\n",
       "      <td>33621250</td>\n",
       "      <td>Python: If Statements, Raw_Input and List Gen</td>\n",
       "      <td>&lt;p&gt;I'm having a strange issue taking in user i...</td>\n",
       "      <td>NaN</td>\n",
       "      <td>2</td>\n",
       "      <td>1</td>\n",
       "      <td>None</td>\n",
       "      <td>2015-11-10 01:16:16.137000+00:00</td>\n",
       "      <td>NaN</td>\n",
       "      <td>2015-11-10 01:26:10.973000+00:00</td>\n",
       "      <td>2015-11-10 01:18:45.983000+00:00</td>\n",
       "      <td>None</td>\n",
       "      <td>5299236.0</td>\n",
       "      <td>None</td>\n",
       "      <td>5511425.0</td>\n",
       "      <td>None</td>\n",
       "      <td>1</td>\n",
       "      <td>0</td>\n",
       "      <td>python</td>\n",
       "      <td>24</td>\n",
       "    </tr>\n",
       "    <tr>\n",
       "      <td>3</td>\n",
       "      <td>55390009</td>\n",
       "      <td>A python code to summarize data of one column ...</td>\n",
       "      <td>&lt;p&gt;I am dealing with a data where I have two c...</td>\n",
       "      <td>NaN</td>\n",
       "      <td>0</td>\n",
       "      <td>3</td>\n",
       "      <td>None</td>\n",
       "      <td>2019-03-28 04:07:41.983000+00:00</td>\n",
       "      <td>NaN</td>\n",
       "      <td>2019-03-28 04:30:31.480000+00:00</td>\n",
       "      <td>NaT</td>\n",
       "      <td>None</td>\n",
       "      <td>NaN</td>\n",
       "      <td>None</td>\n",
       "      <td>10779961.0</td>\n",
       "      <td>None</td>\n",
       "      <td>1</td>\n",
       "      <td>0</td>\n",
       "      <td>python</td>\n",
       "      <td>26</td>\n",
       "    </tr>\n",
       "    <tr>\n",
       "      <td>4</td>\n",
       "      <td>55625816</td>\n",
       "      <td>ImportError: No module named ... (but I have _...</td>\n",
       "      <td>&lt;p&gt;I know this question is asked over and over...</td>\n",
       "      <td>NaN</td>\n",
       "      <td>1</td>\n",
       "      <td>4</td>\n",
       "      <td>None</td>\n",
       "      <td>2019-04-11 06:15:57.990000+00:00</td>\n",
       "      <td>NaN</td>\n",
       "      <td>2019-04-11 06:23:55.150000+00:00</td>\n",
       "      <td>2019-04-11 06:23:55.150000+00:00</td>\n",
       "      <td>None</td>\n",
       "      <td>455687.0</td>\n",
       "      <td>None</td>\n",
       "      <td>455687.0</td>\n",
       "      <td>None</td>\n",
       "      <td>1</td>\n",
       "      <td>0</td>\n",
       "      <td>python</td>\n",
       "      <td>28</td>\n",
       "    </tr>\n",
       "    <tr>\n",
       "      <td>...</td>\n",
       "      <td>...</td>\n",
       "      <td>...</td>\n",
       "      <td>...</td>\n",
       "      <td>...</td>\n",
       "      <td>...</td>\n",
       "      <td>...</td>\n",
       "      <td>...</td>\n",
       "      <td>...</td>\n",
       "      <td>...</td>\n",
       "      <td>...</td>\n",
       "      <td>...</td>\n",
       "      <td>...</td>\n",
       "      <td>...</td>\n",
       "      <td>...</td>\n",
       "      <td>...</td>\n",
       "      <td>...</td>\n",
       "      <td>...</td>\n",
       "      <td>...</td>\n",
       "      <td>...</td>\n",
       "      <td>...</td>\n",
       "    </tr>\n",
       "    <tr>\n",
       "      <td>66</td>\n",
       "      <td>30705276</td>\n",
       "      <td>Python - Position Argument missing</td>\n",
       "      <td>&lt;p&gt;My Python code has the following class&lt;/p&gt;\\...</td>\n",
       "      <td>30705335.0</td>\n",
       "      <td>1</td>\n",
       "      <td>0</td>\n",
       "      <td>None</td>\n",
       "      <td>2015-06-08 09:15:43.517000+00:00</td>\n",
       "      <td>NaN</td>\n",
       "      <td>2015-06-08 09:18:49.523000+00:00</td>\n",
       "      <td>2015-06-08 09:17:28.453000+00:00</td>\n",
       "      <td>None</td>\n",
       "      <td>100297.0</td>\n",
       "      <td>None</td>\n",
       "      <td>3503078.0</td>\n",
       "      <td>None</td>\n",
       "      <td>1</td>\n",
       "      <td>-2</td>\n",
       "      <td>python</td>\n",
       "      <td>40</td>\n",
       "    </tr>\n",
       "    <tr>\n",
       "      <td>67</td>\n",
       "      <td>42090662</td>\n",
       "      <td>Make condition true and pass it as argument</td>\n",
       "      <td>&lt;p&gt;I have a function where I am writing someth...</td>\n",
       "      <td>NaN</td>\n",
       "      <td>1</td>\n",
       "      <td>3</td>\n",
       "      <td>None</td>\n",
       "      <td>2017-02-07 13:06:15.660000+00:00</td>\n",
       "      <td>NaN</td>\n",
       "      <td>2017-02-10 02:57:20.500000+00:00</td>\n",
       "      <td>2017-02-10 02:57:20.500000+00:00</td>\n",
       "      <td>None</td>\n",
       "      <td>7311767.0</td>\n",
       "      <td>None</td>\n",
       "      <td>7358084.0</td>\n",
       "      <td>None</td>\n",
       "      <td>1</td>\n",
       "      <td>-1</td>\n",
       "      <td>python</td>\n",
       "      <td>37</td>\n",
       "    </tr>\n",
       "    <tr>\n",
       "      <td>68</td>\n",
       "      <td>53445767</td>\n",
       "      <td>Sorting .txt files</td>\n",
       "      <td>&lt;p&gt;I am trying to make the 'scores' section of...</td>\n",
       "      <td>53447162.0</td>\n",
       "      <td>3</td>\n",
       "      <td>3</td>\n",
       "      <td>None</td>\n",
       "      <td>2018-11-23 11:21:34.267000+00:00</td>\n",
       "      <td>0.0</td>\n",
       "      <td>2018-11-23 12:57:43.057000+00:00</td>\n",
       "      <td>2018-11-23 11:39:40.233000+00:00</td>\n",
       "      <td>None</td>\n",
       "      <td>10695208.0</td>\n",
       "      <td>None</td>\n",
       "      <td>10695208.0</td>\n",
       "      <td>None</td>\n",
       "      <td>1</td>\n",
       "      <td>-1</td>\n",
       "      <td>python</td>\n",
       "      <td>52</td>\n",
       "    </tr>\n",
       "    <tr>\n",
       "      <td>69</td>\n",
       "      <td>7239838</td>\n",
       "      <td>what is this saying in python</td>\n",
       "      <td>&lt;p&gt;&lt;code&gt;map(tuple, map(lambda row: [float(row...</td>\n",
       "      <td>7239900.0</td>\n",
       "      <td>2</td>\n",
       "      <td>0</td>\n",
       "      <td>None</td>\n",
       "      <td>2011-08-30 07:18:05.277000+00:00</td>\n",
       "      <td>NaN</td>\n",
       "      <td>2011-08-30 07:25:17.780000+00:00</td>\n",
       "      <td>NaT</td>\n",
       "      <td>None</td>\n",
       "      <td>NaN</td>\n",
       "      <td>None</td>\n",
       "      <td>382906.0</td>\n",
       "      <td>None</td>\n",
       "      <td>1</td>\n",
       "      <td>-1</td>\n",
       "      <td>python</td>\n",
       "      <td>84</td>\n",
       "    </tr>\n",
       "    <tr>\n",
       "      <td>70</td>\n",
       "      <td>39904786</td>\n",
       "      <td>Need help on datetime manipulation in python</td>\n",
       "      <td>&lt;pre&gt;&lt;code&gt;import datetime\\ntoday = datetime.d...</td>\n",
       "      <td>39904907.0</td>\n",
       "      <td>3</td>\n",
       "      <td>3</td>\n",
       "      <td>None</td>\n",
       "      <td>2016-10-06 20:06:30.887000+00:00</td>\n",
       "      <td>NaN</td>\n",
       "      <td>2016-10-06 20:20:11.963000+00:00</td>\n",
       "      <td>NaT</td>\n",
       "      <td>None</td>\n",
       "      <td>NaN</td>\n",
       "      <td>None</td>\n",
       "      <td>6211445.0</td>\n",
       "      <td>None</td>\n",
       "      <td>1</td>\n",
       "      <td>-1</td>\n",
       "      <td>python</td>\n",
       "      <td>110</td>\n",
       "    </tr>\n",
       "  </tbody>\n",
       "</table>\n",
       "<p>71 rows × 20 columns</p>\n",
       "</div>"
      ],
      "text/plain": [
       "          id                                              title  \\\n",
       "0    4886634                   python gtk window not responding   \n",
       "1   53653262          Smoothing a Function with multiple Curves   \n",
       "2   33621250      Python: If Statements, Raw_Input and List Gen   \n",
       "3   55390009  A python code to summarize data of one column ...   \n",
       "4   55625816  ImportError: No module named ... (but I have _...   \n",
       "..       ...                                                ...   \n",
       "66  30705276                 Python - Position Argument missing   \n",
       "67  42090662        Make condition true and pass it as argument   \n",
       "68  53445767                                 Sorting .txt files   \n",
       "69   7239838                      what is this saying in python   \n",
       "70  39904786       Need help on datetime manipulation in python   \n",
       "\n",
       "                                                 body  accepted_answer_id  \\\n",
       "0   <p>I process a new function and append the val...                 NaN   \n",
       "1   <p>I have a function that I wanted to graph, b...                 NaN   \n",
       "2   <p>I'm having a strange issue taking in user i...                 NaN   \n",
       "3   <p>I am dealing with a data where I have two c...                 NaN   \n",
       "4   <p>I know this question is asked over and over...                 NaN   \n",
       "..                                                ...                 ...   \n",
       "66  <p>My Python code has the following class</p>\\...          30705335.0   \n",
       "67  <p>I have a function where I am writing someth...                 NaN   \n",
       "68  <p>I am trying to make the 'scores' section of...          53447162.0   \n",
       "69  <p><code>map(tuple, map(lambda row: [float(row...           7239900.0   \n",
       "70  <pre><code>import datetime\\ntoday = datetime.d...          39904907.0   \n",
       "\n",
       "    answer_count  comment_count community_owned_date  \\\n",
       "0              1              1                 None   \n",
       "1              2              1                 None   \n",
       "2              2              1                 None   \n",
       "3              0              3                 None   \n",
       "4              1              4                 None   \n",
       "..           ...            ...                  ...   \n",
       "66             1              0                 None   \n",
       "67             1              3                 None   \n",
       "68             3              3                 None   \n",
       "69             2              0                 None   \n",
       "70             3              3                 None   \n",
       "\n",
       "                      creation_date  favorite_count  \\\n",
       "0  2011-02-03 13:21:59.563000+00:00             NaN   \n",
       "1  2018-12-06 14:10:27.687000+00:00             NaN   \n",
       "2  2015-11-10 01:16:16.137000+00:00             NaN   \n",
       "3  2019-03-28 04:07:41.983000+00:00             NaN   \n",
       "4  2019-04-11 06:15:57.990000+00:00             NaN   \n",
       "..                              ...             ...   \n",
       "66 2015-06-08 09:15:43.517000+00:00             NaN   \n",
       "67 2017-02-07 13:06:15.660000+00:00             NaN   \n",
       "68 2018-11-23 11:21:34.267000+00:00             0.0   \n",
       "69 2011-08-30 07:18:05.277000+00:00             NaN   \n",
       "70 2016-10-06 20:06:30.887000+00:00             NaN   \n",
       "\n",
       "                 last_activity_date                   last_edit_date  \\\n",
       "0  2011-02-03 13:30:52.560000+00:00                              NaT   \n",
       "1  2018-12-06 14:44:14.260000+00:00                              NaT   \n",
       "2  2015-11-10 01:26:10.973000+00:00 2015-11-10 01:18:45.983000+00:00   \n",
       "3  2019-03-28 04:30:31.480000+00:00                              NaT   \n",
       "4  2019-04-11 06:23:55.150000+00:00 2019-04-11 06:23:55.150000+00:00   \n",
       "..                              ...                              ...   \n",
       "66 2015-06-08 09:18:49.523000+00:00 2015-06-08 09:17:28.453000+00:00   \n",
       "67 2017-02-10 02:57:20.500000+00:00 2017-02-10 02:57:20.500000+00:00   \n",
       "68 2018-11-23 12:57:43.057000+00:00 2018-11-23 11:39:40.233000+00:00   \n",
       "69 2011-08-30 07:25:17.780000+00:00                              NaT   \n",
       "70 2016-10-06 20:20:11.963000+00:00                              NaT   \n",
       "\n",
       "   last_editor_display_name  last_editor_user_id owner_display_name  \\\n",
       "0                      None                  NaN               None   \n",
       "1                      None                  NaN               None   \n",
       "2                      None            5299236.0               None   \n",
       "3                      None                  NaN               None   \n",
       "4                      None             455687.0               None   \n",
       "..                      ...                  ...                ...   \n",
       "66                     None             100297.0               None   \n",
       "67                     None            7311767.0               None   \n",
       "68                     None           10695208.0               None   \n",
       "69                     None                  NaN               None   \n",
       "70                     None                  NaN               None   \n",
       "\n",
       "    owner_user_id parent_id  post_type_id  score    tags  view_count  \n",
       "0        532065.0      None             1      0  python         258  \n",
       "1      10514313.0      None             1      0  python          23  \n",
       "2       5511425.0      None             1      0  python          24  \n",
       "3      10779961.0      None             1      0  python          26  \n",
       "4        455687.0      None             1      0  python          28  \n",
       "..            ...       ...           ...    ...     ...         ...  \n",
       "66      3503078.0      None             1     -2  python          40  \n",
       "67      7358084.0      None             1     -1  python          37  \n",
       "68     10695208.0      None             1     -1  python          52  \n",
       "69       382906.0      None             1     -1  python          84  \n",
       "70      6211445.0      None             1     -1  python         110  \n",
       "\n",
       "[71 rows x 20 columns]"
      ]
     },
     "execution_count": 22,
     "metadata": {},
     "output_type": "execute_result"
    }
   ],
   "source": [
    "df_small_python"
   ]
  },
  {
   "cell_type": "markdown",
   "metadata": {
    "Collapsed": "false"
   },
   "source": [
    "## Word Cloud Body"
   ]
  },
  {
   "cell_type": "code",
   "execution_count": 23,
   "metadata": {
    "Collapsed": "false"
   },
   "outputs": [],
   "source": [
    "questions_python = df_small_python[['body']].apply(lambda x: ' '.join(x), axis=0)[0]"
   ]
  },
  {
   "cell_type": "code",
   "execution_count": 24,
   "metadata": {
    "Collapsed": "false"
   },
   "outputs": [],
   "source": [
    "soup = BeautifulSoup(questions_python, 'html.parser')"
   ]
  },
  {
   "cell_type": "code",
   "execution_count": 25,
   "metadata": {
    "Collapsed": "false"
   },
   "outputs": [],
   "source": [
    "questions_python = soup.find_all('p')\n",
    "questions_python_2 = ''"
   ]
  },
  {
   "cell_type": "code",
   "execution_count": 26,
   "metadata": {
    "Collapsed": "false"
   },
   "outputs": [],
   "source": [
    "for qst in questions_python:\n",
    "    questions_python_2 += qst.text"
   ]
  },
  {
   "cell_type": "code",
   "execution_count": 27,
   "metadata": {
    "Collapsed": "false"
   },
   "outputs": [],
   "source": [
    "from wordcloud import WordCloud, STOPWORDS, ImageColorGenerator"
   ]
  },
  {
   "cell_type": "code",
   "execution_count": 28,
   "metadata": {
    "Collapsed": "false"
   },
   "outputs": [],
   "source": [
    "stopwords = set(STOPWORDS)"
   ]
  },
  {
   "cell_type": "code",
   "execution_count": 29,
   "metadata": {
    "Collapsed": "false"
   },
   "outputs": [],
   "source": [
    "wordcloud = WordCloud(stopwords=stopwords).generate(questions_python_2)"
   ]
  },
  {
   "cell_type": "code",
   "execution_count": 30,
   "metadata": {
    "Collapsed": "false"
   },
   "outputs": [
    {
     "data": {
      "image/png": "[encoded data removed]",
      "text/plain": [
       "<Figure size 432x288 with 1 Axes>"
      ]
     },
     "metadata": {
      "needs_background": "light"
     },
     "output_type": "display_data"
    }
   ],
   "source": [
    "plt.imshow(wordcloud, interpolation='bilinear')\n",
    "plt.axis(\"off\")\n",
    "plt.show()"
   ]
  },
  {
   "cell_type": "markdown",
   "metadata": {
    "Collapsed": "false"
   },
   "source": [
    "## Word Cloud Title"
   ]
  },
  {
   "cell_type": "code",
   "execution_count": 31,
   "metadata": {
    "Collapsed": "false"
   },
   "outputs": [],
   "source": [
    "title_python = df_small_python[['title']].apply(lambda x: ' '.join(x), axis=0)[0]"
   ]
  },
  {
   "cell_type": "code",
   "execution_count": 32,
   "metadata": {
    "Collapsed": "false"
   },
   "outputs": [],
   "source": [
    "wordcloud_title = WordCloud(stopwords=stopwords).generate(title_python)"
   ]
  },
  {
   "cell_type": "code",
   "execution_count": 33,
   "metadata": {
    "Collapsed": "false"
   },
   "outputs": [
    {
     "data": {
      "image/png": "[encoded data removed]",
      "text/plain": [
       "<Figure size 432x288 with 1 Axes>"
      ]
     },
     "metadata": {
      "needs_background": "light"
     },
     "output_type": "display_data"
    }
   ],
   "source": [
    "plt.imshow(wordcloud_title, interpolation='bilinear')\n",
    "plt.axis(\"off\")\n",
    "plt.show()"
   ]
  },
  {
   "cell_type": "code",
   "execution_count": 34,
   "metadata": {
    "Collapsed": "false"
   },
   "outputs": [
    {
     "data": {
      "text/html": [
       "<div>\n",
       "<style scoped>\n",
       "    .dataframe tbody tr th:only-of-type {\n",
       "        vertical-align: middle;\n",
       "    }\n",
       "\n",
       "    .dataframe tbody tr th {\n",
       "        vertical-align: top;\n",
       "    }\n",
       "\n",
       "    .dataframe thead th {\n",
       "        text-align: right;\n",
       "    }\n",
       "</style>\n",
       "<table border=\"1\" class=\"dataframe\">\n",
       "  <thead>\n",
       "    <tr style=\"text-align: right;\">\n",
       "      <th></th>\n",
       "      <th>id</th>\n",
       "      <th>title</th>\n",
       "      <th>body</th>\n",
       "      <th>accepted_answer_id</th>\n",
       "      <th>answer_count</th>\n",
       "      <th>comment_count</th>\n",
       "      <th>community_owned_date</th>\n",
       "      <th>creation_date</th>\n",
       "      <th>favorite_count</th>\n",
       "      <th>last_activity_date</th>\n",
       "      <th>...</th>\n",
       "      <th>last_editor_display_name</th>\n",
       "      <th>last_editor_user_id</th>\n",
       "      <th>owner_display_name</th>\n",
       "      <th>owner_user_id</th>\n",
       "      <th>parent_id</th>\n",
       "      <th>post_type_id</th>\n",
       "      <th>score</th>\n",
       "      <th>tags</th>\n",
       "      <th>view_count</th>\n",
       "      <th>view_answer_ratio</th>\n",
       "    </tr>\n",
       "  </thead>\n",
       "  <tbody>\n",
       "    <tr>\n",
       "      <td>0</td>\n",
       "      <td>22804521</td>\n",
       "      <td>how to push my github repo into openshift and ...</td>\n",
       "      <td>&lt;p&gt;i'm newbie to openshift and git.I've my rep...</td>\n",
       "      <td>NaN</td>\n",
       "      <td>2</td>\n",
       "      <td>1</td>\n",
       "      <td>None</td>\n",
       "      <td>2014-04-02 07:34:06.840000+00:00</td>\n",
       "      <td>NaN</td>\n",
       "      <td>2014-09-02 23:53:30.343000+00:00</td>\n",
       "      <td>...</td>\n",
       "      <td>None</td>\n",
       "      <td>NaN</td>\n",
       "      <td>None</td>\n",
       "      <td>3488259.0</td>\n",
       "      <td>None</td>\n",
       "      <td>1</td>\n",
       "      <td>0</td>\n",
       "      <td>gitgithubsftpopenshift</td>\n",
       "      <td>256</td>\n",
       "      <td>0.007812</td>\n",
       "    </tr>\n",
       "    <tr>\n",
       "      <td>1</td>\n",
       "      <td>47530134</td>\n",
       "      <td>`Trace: TypeError: React.__spread is not a fun...</td>\n",
       "      <td>&lt;p&gt;I was seeing a warning about this when I wa...</td>\n",
       "      <td>NaN</td>\n",
       "      <td>1</td>\n",
       "      <td>15</td>\n",
       "      <td>None</td>\n",
       "      <td>2017-11-28 11:11:28.023000+00:00</td>\n",
       "      <td>NaN</td>\n",
       "      <td>2017-11-28 12:49:25.707000+00:00</td>\n",
       "      <td>...</td>\n",
       "      <td>None</td>\n",
       "      <td>4015856.0</td>\n",
       "      <td>None</td>\n",
       "      <td>4015856.0</td>\n",
       "      <td>None</td>\n",
       "      <td>1</td>\n",
       "      <td>0</td>\n",
       "      <td>reactjsreact-reduxbabel</td>\n",
       "      <td>256</td>\n",
       "      <td>0.003906</td>\n",
       "    </tr>\n",
       "    <tr>\n",
       "      <td>2</td>\n",
       "      <td>35257755</td>\n",
       "      <td>Append mouseover event to img in a div with jQ...</td>\n",
       "      <td>&lt;p&gt;I am trying to append a mouseover event to ...</td>\n",
       "      <td>35257815.0</td>\n",
       "      <td>1</td>\n",
       "      <td>0</td>\n",
       "      <td>None</td>\n",
       "      <td>2016-02-07 19:04:45.170000+00:00</td>\n",
       "      <td>NaN</td>\n",
       "      <td>2016-02-07 20:30:15.287000+00:00</td>\n",
       "      <td>...</td>\n",
       "      <td>None</td>\n",
       "      <td>NaN</td>\n",
       "      <td>None</td>\n",
       "      <td>5448626.0</td>\n",
       "      <td>None</td>\n",
       "      <td>1</td>\n",
       "      <td>0</td>\n",
       "      <td>jquery</td>\n",
       "      <td>256</td>\n",
       "      <td>0.003906</td>\n",
       "    </tr>\n",
       "    <tr>\n",
       "      <td>3</td>\n",
       "      <td>31909648</td>\n",
       "      <td>Connect on website with HttpWebRequest</td>\n",
       "      <td>&lt;p&gt;I tried to use HttpWebRequest to connect on...</td>\n",
       "      <td>NaN</td>\n",
       "      <td>0</td>\n",
       "      <td>3</td>\n",
       "      <td>None</td>\n",
       "      <td>2015-08-09 23:00:17.090000+00:00</td>\n",
       "      <td>NaN</td>\n",
       "      <td>2015-08-10 16:59:35.420000+00:00</td>\n",
       "      <td>...</td>\n",
       "      <td>None</td>\n",
       "      <td>5182869.0</td>\n",
       "      <td>None</td>\n",
       "      <td>5182869.0</td>\n",
       "      <td>None</td>\n",
       "      <td>1</td>\n",
       "      <td>0</td>\n",
       "      <td>c#httpwebrequestwebclientwebclient-download</td>\n",
       "      <td>256</td>\n",
       "      <td>0.000000</td>\n",
       "    </tr>\n",
       "    <tr>\n",
       "      <td>4</td>\n",
       "      <td>50601033</td>\n",
       "      <td>HTTP outbound gateway - uri variable - encoding</td>\n",
       "      <td>&lt;p&gt;I have a http outbound gateway, which requi...</td>\n",
       "      <td>NaN</td>\n",
       "      <td>0</td>\n",
       "      <td>6</td>\n",
       "      <td>None</td>\n",
       "      <td>2018-05-30 09:25:08.833000+00:00</td>\n",
       "      <td>NaN</td>\n",
       "      <td>2018-05-30 14:23:15.030000+00:00</td>\n",
       "      <td>...</td>\n",
       "      <td>None</td>\n",
       "      <td>2017299.0</td>\n",
       "      <td>None</td>\n",
       "      <td>2017299.0</td>\n",
       "      <td>None</td>\n",
       "      <td>1</td>\n",
       "      <td>0</td>\n",
       "      <td>springspring-integrationgatewayoutbound</td>\n",
       "      <td>256</td>\n",
       "      <td>0.000000</td>\n",
       "    </tr>\n",
       "  </tbody>\n",
       "</table>\n",
       "<p>5 rows × 21 columns</p>\n",
       "</div>"
      ],
      "text/plain": [
       "         id                                              title  \\\n",
       "0  22804521  how to push my github repo into openshift and ...   \n",
       "1  47530134  `Trace: TypeError: React.__spread is not a fun...   \n",
       "2  35257755  Append mouseover event to img in a div with jQ...   \n",
       "3  31909648             Connect on website with HttpWebRequest   \n",
       "4  50601033    HTTP outbound gateway - uri variable - encoding   \n",
       "\n",
       "                                                body  accepted_answer_id  \\\n",
       "0  <p>i'm newbie to openshift and git.I've my rep...                 NaN   \n",
       "1  <p>I was seeing a warning about this when I wa...                 NaN   \n",
       "2  <p>I am trying to append a mouseover event to ...          35257815.0   \n",
       "3  <p>I tried to use HttpWebRequest to connect on...                 NaN   \n",
       "4  <p>I have a http outbound gateway, which requi...                 NaN   \n",
       "\n",
       "   answer_count  comment_count community_owned_date  \\\n",
       "0             2              1                 None   \n",
       "1             1             15                 None   \n",
       "2             1              0                 None   \n",
       "3             0              3                 None   \n",
       "4             0              6                 None   \n",
       "\n",
       "                     creation_date  favorite_count  \\\n",
       "0 2014-04-02 07:34:06.840000+00:00             NaN   \n",
       "1 2017-11-28 11:11:28.023000+00:00             NaN   \n",
       "2 2016-02-07 19:04:45.170000+00:00             NaN   \n",
       "3 2015-08-09 23:00:17.090000+00:00             NaN   \n",
       "4 2018-05-30 09:25:08.833000+00:00             NaN   \n",
       "\n",
       "                last_activity_date  ... last_editor_display_name  \\\n",
       "0 2014-09-02 23:53:30.343000+00:00  ...                     None   \n",
       "1 2017-11-28 12:49:25.707000+00:00  ...                     None   \n",
       "2 2016-02-07 20:30:15.287000+00:00  ...                     None   \n",
       "3 2015-08-10 16:59:35.420000+00:00  ...                     None   \n",
       "4 2018-05-30 14:23:15.030000+00:00  ...                     None   \n",
       "\n",
       "  last_editor_user_id  owner_display_name owner_user_id  parent_id  \\\n",
       "0                 NaN                None     3488259.0       None   \n",
       "1           4015856.0                None     4015856.0       None   \n",
       "2                 NaN                None     5448626.0       None   \n",
       "3           5182869.0                None     5182869.0       None   \n",
       "4           2017299.0                None     2017299.0       None   \n",
       "\n",
       "  post_type_id  score                                         tags view_count  \\\n",
       "0            1      0                       gitgithubsftpopenshift        256   \n",
       "1            1      0                      reactjsreact-reduxbabel        256   \n",
       "2            1      0                                       jquery        256   \n",
       "3            1      0  c#httpwebrequestwebclientwebclient-download        256   \n",
       "4            1      0      springspring-integrationgatewayoutbound        256   \n",
       "\n",
       "   view_answer_ratio  \n",
       "0           0.007812  \n",
       "1           0.003906  \n",
       "2           0.003906  \n",
       "3           0.000000  \n",
       "4           0.000000  \n",
       "\n",
       "[5 rows x 21 columns]"
      ]
     },
     "execution_count": 34,
     "metadata": {},
     "output_type": "execute_result"
    }
   ],
   "source": [
    "df_small.head()"
   ]
  },
  {
   "cell_type": "code",
   "execution_count": 51,
   "metadata": {
    "Collapsed": "false"
   },
   "outputs": [],
   "source": [
    "query = \"\"\"SELECT\n",
    " *\n",
    "FROM\n",
    "  `bigquery-public-data.stackoverflow.tags`\n",
    "ORDER BY\n",
    "  count desc\n",
    "LIMIT\n",
    "  100\"\"\"\n",
    "df_tags = client.query(query).to_dataframe()"
   ]
  },
  {
   "cell_type": "code",
   "execution_count": 52,
   "metadata": {
    "Collapsed": "false"
   },
   "outputs": [
    {
     "data": {
      "text/html": [
       "<div>\n",
       "<style scoped>\n",
       "    .dataframe tbody tr th:only-of-type {\n",
       "        vertical-align: middle;\n",
       "    }\n",
       "\n",
       "    .dataframe tbody tr th {\n",
       "        vertical-align: top;\n",
       "    }\n",
       "\n",
       "    .dataframe thead th {\n",
       "        text-align: right;\n",
       "    }\n",
       "</style>\n",
       "<table border=\"1\" class=\"dataframe\">\n",
       "  <thead>\n",
       "    <tr style=\"text-align: right;\">\n",
       "      <th></th>\n",
       "      <th>id</th>\n",
       "      <th>tag_name</th>\n",
       "      <th>count</th>\n",
       "      <th>excerpt_post_id</th>\n",
       "      <th>wiki_post_id</th>\n",
       "    </tr>\n",
       "  </thead>\n",
       "  <tbody>\n",
       "    <tr>\n",
       "      <td>0</td>\n",
       "      <td>3</td>\n",
       "      <td>javascript</td>\n",
       "      <td>1862833</td>\n",
       "      <td>3624960</td>\n",
       "      <td>3607052</td>\n",
       "    </tr>\n",
       "    <tr>\n",
       "      <td>1</td>\n",
       "      <td>17</td>\n",
       "      <td>java</td>\n",
       "      <td>1581854</td>\n",
       "      <td>3624966</td>\n",
       "      <td>3607018</td>\n",
       "    </tr>\n",
       "    <tr>\n",
       "      <td>2</td>\n",
       "      <td>9</td>\n",
       "      <td>c#</td>\n",
       "      <td>1339575</td>\n",
       "      <td>3624962</td>\n",
       "      <td>3607007</td>\n",
       "    </tr>\n",
       "    <tr>\n",
       "      <td>3</td>\n",
       "      <td>5</td>\n",
       "      <td>php</td>\n",
       "      <td>1303327</td>\n",
       "      <td>3624936</td>\n",
       "      <td>3607050</td>\n",
       "    </tr>\n",
       "    <tr>\n",
       "      <td>4</td>\n",
       "      <td>16</td>\n",
       "      <td>python</td>\n",
       "      <td>1236812</td>\n",
       "      <td>3624965</td>\n",
       "      <td>3607014</td>\n",
       "    </tr>\n",
       "    <tr>\n",
       "      <td>5</td>\n",
       "      <td>1386</td>\n",
       "      <td>android</td>\n",
       "      <td>1217514</td>\n",
       "      <td>3625001</td>\n",
       "      <td>3607484</td>\n",
       "    </tr>\n",
       "    <tr>\n",
       "      <td>6</td>\n",
       "      <td>820</td>\n",
       "      <td>jquery</td>\n",
       "      <td>963561</td>\n",
       "      <td>3625262</td>\n",
       "      <td>3607053</td>\n",
       "    </tr>\n",
       "    <tr>\n",
       "      <td>7</td>\n",
       "      <td>2</td>\n",
       "      <td>html</td>\n",
       "      <td>844699</td>\n",
       "      <td>3673183</td>\n",
       "      <td>3673182</td>\n",
       "    </tr>\n",
       "    <tr>\n",
       "      <td>8</td>\n",
       "      <td>10</td>\n",
       "      <td>c++</td>\n",
       "      <td>630823</td>\n",
       "      <td>3624963</td>\n",
       "      <td>3606997</td>\n",
       "    </tr>\n",
       "    <tr>\n",
       "      <td>9</td>\n",
       "      <td>58338</td>\n",
       "      <td>ios</td>\n",
       "      <td>607031</td>\n",
       "      <td>4536664</td>\n",
       "      <td>4536663</td>\n",
       "    </tr>\n",
       "  </tbody>\n",
       "</table>\n",
       "</div>"
      ],
      "text/plain": [
       "      id    tag_name    count  excerpt_post_id  wiki_post_id\n",
       "0      3  javascript  1862833          3624960       3607052\n",
       "1     17        java  1581854          3624966       3607018\n",
       "2      9          c#  1339575          3624962       3607007\n",
       "3      5         php  1303327          3624936       3607050\n",
       "4     16      python  1236812          3624965       3607014\n",
       "5   1386     android  1217514          3625001       3607484\n",
       "6    820      jquery   963561          3625262       3607053\n",
       "7      2        html   844699          3673183       3673182\n",
       "8     10         c++   630823          3624963       3606997\n",
       "9  58338         ios   607031          4536664       4536663"
      ]
     },
     "execution_count": 52,
     "metadata": {},
     "output_type": "execute_result"
    }
   ],
   "source": [
    "df_tags.head(10)"
   ]
  },
  {
   "cell_type": "code",
   "execution_count": 45,
   "metadata": {
    "Collapsed": "false"
   },
   "outputs": [
    {
     "data": {
      "text/plain": [
       "100"
      ]
     },
     "execution_count": 45,
     "metadata": {},
     "output_type": "execute_result"
    }
   ],
   "source": [
    "len(df_tags)"
   ]
  },
  {
   "cell_type": "code",
   "execution_count": 47,
   "metadata": {
    "Collapsed": "false"
   },
   "outputs": [
    {
     "data": {
      "text/plain": [
       "<matplotlib.axes._subplots.AxesSubplot at 0x215f78c3cc0>"
      ]
     },
     "execution_count": 47,
     "metadata": {},
     "output_type": "execute_result"
    },
    {
     "data": {
      "image/png": "[encoded data removed]",
      "text/plain": [
       "<Figure size 432x288 with 1 Axes>"
      ]
     },
     "metadata": {
      "needs_background": "light"
     },
     "output_type": "display_data"
    }
   ],
   "source": [
    "df_tags.plot(x='id', y='count', kind='bar')"
   ]
  },
  {
   "cell_type": "code",
   "execution_count": 50,
   "metadata": {
    "Collapsed": "false"
   },
   "outputs": [
    {
     "data": {
      "text/html": [
       "<div>\n",
       "<style scoped>\n",
       "    .dataframe tbody tr th:only-of-type {\n",
       "        vertical-align: middle;\n",
       "    }\n",
       "\n",
       "    .dataframe tbody tr th {\n",
       "        vertical-align: top;\n",
       "    }\n",
       "\n",
       "    .dataframe thead th {\n",
       "        text-align: right;\n",
       "    }\n",
       "</style>\n",
       "<table border=\"1\" class=\"dataframe\">\n",
       "  <thead>\n",
       "    <tr style=\"text-align: right;\">\n",
       "      <th></th>\n",
       "      <th>id</th>\n",
       "      <th>tag_name</th>\n",
       "      <th>count</th>\n",
       "      <th>excerpt_post_id</th>\n",
       "      <th>wiki_post_id</th>\n",
       "    </tr>\n",
       "  </thead>\n",
       "  <tbody>\n",
       "    <tr>\n",
       "      <td>0</td>\n",
       "      <td>3</td>\n",
       "      <td>javascript</td>\n",
       "      <td>1862833</td>\n",
       "      <td>3624960</td>\n",
       "      <td>3607052</td>\n",
       "    </tr>\n",
       "    <tr>\n",
       "      <td>1</td>\n",
       "      <td>17</td>\n",
       "      <td>java</td>\n",
       "      <td>1581854</td>\n",
       "      <td>3624966</td>\n",
       "      <td>3607018</td>\n",
       "    </tr>\n",
       "    <tr>\n",
       "      <td>2</td>\n",
       "      <td>9</td>\n",
       "      <td>c#</td>\n",
       "      <td>1339575</td>\n",
       "      <td>3624962</td>\n",
       "      <td>3607007</td>\n",
       "    </tr>\n",
       "    <tr>\n",
       "      <td>3</td>\n",
       "      <td>5</td>\n",
       "      <td>php</td>\n",
       "      <td>1303327</td>\n",
       "      <td>3624936</td>\n",
       "      <td>3607050</td>\n",
       "    </tr>\n",
       "    <tr>\n",
       "      <td>4</td>\n",
       "      <td>16</td>\n",
       "      <td>python</td>\n",
       "      <td>1236812</td>\n",
       "      <td>3624965</td>\n",
       "      <td>3607014</td>\n",
       "    </tr>\n",
       "    <tr>\n",
       "      <td>...</td>\n",
       "      <td>...</td>\n",
       "      <td>...</td>\n",
       "      <td>...</td>\n",
       "      <td>...</td>\n",
       "      <td>...</td>\n",
       "    </tr>\n",
       "    <tr>\n",
       "      <td>95</td>\n",
       "      <td>4190</td>\n",
       "      <td>numpy</td>\n",
       "      <td>63762</td>\n",
       "      <td>3736245</td>\n",
       "      <td>3736244</td>\n",
       "    </tr>\n",
       "    <tr>\n",
       "      <td>96</td>\n",
       "      <td>73</td>\n",
       "      <td>csv</td>\n",
       "      <td>63520</td>\n",
       "      <td>4913959</td>\n",
       "      <td>4913958</td>\n",
       "    </tr>\n",
       "    <tr>\n",
       "      <td>97</td>\n",
       "      <td>580</td>\n",
       "      <td>perl</td>\n",
       "      <td>63180</td>\n",
       "      <td>3625260</td>\n",
       "      <td>3607675</td>\n",
       "    </tr>\n",
       "    <tr>\n",
       "      <td>98</td>\n",
       "      <td>57799</td>\n",
       "      <td>symfony</td>\n",
       "      <td>63046</td>\n",
       "      <td>5692076</td>\n",
       "      <td>5692075</td>\n",
       "    </tr>\n",
       "    <tr>\n",
       "      <td>99</td>\n",
       "      <td>90304</td>\n",
       "      <td>docker</td>\n",
       "      <td>61842</td>\n",
       "      <td>15699487</td>\n",
       "      <td>15699486</td>\n",
       "    </tr>\n",
       "  </tbody>\n",
       "</table>\n",
       "<p>100 rows × 5 columns</p>\n",
       "</div>"
      ],
      "text/plain": [
       "       id    tag_name    count  excerpt_post_id  wiki_post_id\n",
       "0       3  javascript  1862833          3624960       3607052\n",
       "1      17        java  1581854          3624966       3607018\n",
       "2       9          c#  1339575          3624962       3607007\n",
       "3       5         php  1303327          3624936       3607050\n",
       "4      16      python  1236812          3624965       3607014\n",
       "..    ...         ...      ...              ...           ...\n",
       "95   4190       numpy    63762          3736245       3736244\n",
       "96     73         csv    63520          4913959       4913958\n",
       "97    580        perl    63180          3625260       3607675\n",
       "98  57799     symfony    63046          5692076       5692075\n",
       "99  90304      docker    61842         15699487      15699486\n",
       "\n",
       "[100 rows x 5 columns]"
      ]
     },
     "execution_count": 50,
     "metadata": {},
     "output_type": "execute_result"
    }
   ],
   "source": [
    "df_tags"
   ]
  },
  {
   "cell_type": "markdown",
   "metadata": {
    "Collapsed": "false"
   },
   "source": [
    "# Stackoverflow Posts"
   ]
  },
  {
   "cell_type": "code",
   "execution_count": 114,
   "metadata": {
    "Collapsed": "false"
   },
   "outputs": [],
   "source": [
    "query = \"\"\"SELECT\n",
    "  *\n",
    "FROM\n",
    "  nlp_text_classification.stackoverflow_posts\"\"\"\n",
    "df_posts = client.query(query).to_dataframe()"
   ]
  },
  {
   "cell_type": "code",
   "execution_count": 125,
   "metadata": {
    "Collapsed": "false"
   },
   "outputs": [],
   "source": [
    "df_posts['tags_split'] = df_posts['tags'].str.split('|')"
   ]
  },
  {
   "cell_type": "code",
   "execution_count": 120,
   "metadata": {
    "Collapsed": "false"
   },
   "outputs": [
    {
     "data": {
      "text/html": [
       "<div>\n",
       "<style scoped>\n",
       "    .dataframe tbody tr th:only-of-type {\n",
       "        vertical-align: middle;\n",
       "    }\n",
       "\n",
       "    .dataframe tbody tr th {\n",
       "        vertical-align: top;\n",
       "    }\n",
       "\n",
       "    .dataframe thead th {\n",
       "        text-align: right;\n",
       "    }\n",
       "</style>\n",
       "<table border=\"1\" class=\"dataframe\">\n",
       "  <thead>\n",
       "    <tr style=\"text-align: right;\">\n",
       "      <th></th>\n",
       "      <th>id</th>\n",
       "      <th>title</th>\n",
       "      <th>body</th>\n",
       "      <th>accepted_answer_id</th>\n",
       "      <th>answer_count</th>\n",
       "      <th>comment_count</th>\n",
       "      <th>community_owned_date</th>\n",
       "      <th>creation_date</th>\n",
       "      <th>favorite_count</th>\n",
       "      <th>last_activity_date</th>\n",
       "      <th>...</th>\n",
       "      <th>last_editor_display_name</th>\n",
       "      <th>last_editor_user_id</th>\n",
       "      <th>owner_display_name</th>\n",
       "      <th>owner_user_id</th>\n",
       "      <th>parent_id</th>\n",
       "      <th>post_type_id</th>\n",
       "      <th>score</th>\n",
       "      <th>tags</th>\n",
       "      <th>view_count</th>\n",
       "      <th>tags_split</th>\n",
       "    </tr>\n",
       "  </thead>\n",
       "  <tbody>\n",
       "    <tr>\n",
       "      <td>31008</td>\n",
       "      <td>23786052</td>\n",
       "      <td>How to disable the security setting on a Bixol...</td>\n",
       "      <td>&lt;p&gt;I currently have a need to disable the blue...</td>\n",
       "      <td>23791431.0</td>\n",
       "      <td>1.0</td>\n",
       "      <td>1</td>\n",
       "      <td>NaT</td>\n",
       "      <td>2014-05-21 14:23:18.787000+00:00</td>\n",
       "      <td>NaN</td>\n",
       "      <td>2014-05-21 18:47:41.913000+00:00</td>\n",
       "      <td>...</td>\n",
       "      <td>None</td>\n",
       "      <td>394913.0</td>\n",
       "      <td>None</td>\n",
       "      <td>394913.0</td>\n",
       "      <td>NaN</td>\n",
       "      <td>1</td>\n",
       "      <td>-1</td>\n",
       "      <td>ios|printing|bluetooth</td>\n",
       "      <td>249.0</td>\n",
       "      <td>[ios, printing, bluetooth]</td>\n",
       "    </tr>\n",
       "    <tr>\n",
       "      <td>31009</td>\n",
       "      <td>20146724</td>\n",
       "      <td>Coding a posterior distribution in R</td>\n",
       "      <td>&lt;p&gt;This may be a ridiculous question but I'm v...</td>\n",
       "      <td>NaN</td>\n",
       "      <td>1.0</td>\n",
       "      <td>0</td>\n",
       "      <td>NaT</td>\n",
       "      <td>2013-11-22 14:02:20.213000+00:00</td>\n",
       "      <td>NaN</td>\n",
       "      <td>2013-11-22 16:28:59.977000+00:00</td>\n",
       "      <td>...</td>\n",
       "      <td>None</td>\n",
       "      <td>163809.0</td>\n",
       "      <td>None</td>\n",
       "      <td>3018640.0</td>\n",
       "      <td>NaN</td>\n",
       "      <td>1</td>\n",
       "      <td>-1</td>\n",
       "      <td>r|bayesian</td>\n",
       "      <td>252.0</td>\n",
       "      <td>[r, bayesian]</td>\n",
       "    </tr>\n",
       "    <tr>\n",
       "      <td>31010</td>\n",
       "      <td>18960767</td>\n",
       "      <td>To find an element with nearest lower and grea...</td>\n",
       "      <td>&lt;p&gt;I have two sorted matrices A and B. For all...</td>\n",
       "      <td>NaN</td>\n",
       "      <td>1.0</td>\n",
       "      <td>2</td>\n",
       "      <td>NaT</td>\n",
       "      <td>2013-09-23 13:39:54.877000+00:00</td>\n",
       "      <td>NaN</td>\n",
       "      <td>2013-09-23 14:09:56.303000+00:00</td>\n",
       "      <td>...</td>\n",
       "      <td>None</td>\n",
       "      <td>NaN</td>\n",
       "      <td>None</td>\n",
       "      <td>2807424.0</td>\n",
       "      <td>NaN</td>\n",
       "      <td>1</td>\n",
       "      <td>-1</td>\n",
       "      <td>matlab|search</td>\n",
       "      <td>255.0</td>\n",
       "      <td>[matlab, search]</td>\n",
       "    </tr>\n",
       "    <tr>\n",
       "      <td>31011</td>\n",
       "      <td>10914269</td>\n",
       "      <td>prepareStatement() appears to be stripping sem...</td>\n",
       "      <td>&lt;p&gt;I am trying to execute a prepared statment ...</td>\n",
       "      <td>10915013.0</td>\n",
       "      <td>2.0</td>\n",
       "      <td>3</td>\n",
       "      <td>NaT</td>\n",
       "      <td>2012-06-06 12:30:11.113000+00:00</td>\n",
       "      <td>NaN</td>\n",
       "      <td>2012-06-06 13:38:19.650000+00:00</td>\n",
       "      <td>...</td>\n",
       "      <td>None</td>\n",
       "      <td>3431280.0</td>\n",
       "      <td>None</td>\n",
       "      <td>3431280.0</td>\n",
       "      <td>NaN</td>\n",
       "      <td>1</td>\n",
       "      <td>-1</td>\n",
       "      <td>java|prepared-statement</td>\n",
       "      <td>767.0</td>\n",
       "      <td>[java, prepared-statement]</td>\n",
       "    </tr>\n",
       "    <tr>\n",
       "      <td>31012</td>\n",
       "      <td>18092230</td>\n",
       "      <td>Cannot json dump a python dictionary with id key</td>\n",
       "      <td>&lt;pre&gt;&lt;code&gt;json.dump({'id' : '3'}) File /Libra...</td>\n",
       "      <td>NaN</td>\n",
       "      <td>2.0</td>\n",
       "      <td>2</td>\n",
       "      <td>NaT</td>\n",
       "      <td>2013-08-06 23:32:30.133000+00:00</td>\n",
       "      <td>0.0</td>\n",
       "      <td>2013-08-07 00:04:55.913000+00:00</td>\n",
       "      <td>...</td>\n",
       "      <td>None</td>\n",
       "      <td>1014938.0</td>\n",
       "      <td>None</td>\n",
       "      <td>2658762.0</td>\n",
       "      <td>NaN</td>\n",
       "      <td>1</td>\n",
       "      <td>-1</td>\n",
       "      <td>python|json|dump</td>\n",
       "      <td>1791.0</td>\n",
       "      <td>[python, json, dump]</td>\n",
       "    </tr>\n",
       "  </tbody>\n",
       "</table>\n",
       "<p>5 rows × 21 columns</p>\n",
       "</div>"
      ],
      "text/plain": [
       "             id                                              title  \\\n",
       "31008  23786052  How to disable the security setting on a Bixol...   \n",
       "31009  20146724               Coding a posterior distribution in R   \n",
       "31010  18960767  To find an element with nearest lower and grea...   \n",
       "31011  10914269  prepareStatement() appears to be stripping sem...   \n",
       "31012  18092230   Cannot json dump a python dictionary with id key   \n",
       "\n",
       "                                                    body  accepted_answer_id  \\\n",
       "31008  <p>I currently have a need to disable the blue...          23791431.0   \n",
       "31009  <p>This may be a ridiculous question but I'm v...                 NaN   \n",
       "31010  <p>I have two sorted matrices A and B. For all...                 NaN   \n",
       "31011  <p>I am trying to execute a prepared statment ...          10915013.0   \n",
       "31012  <pre><code>json.dump({'id' : '3'}) File /Libra...                 NaN   \n",
       "\n",
       "       answer_count  comment_count community_owned_date  \\\n",
       "31008           1.0              1                  NaT   \n",
       "31009           1.0              0                  NaT   \n",
       "31010           1.0              2                  NaT   \n",
       "31011           2.0              3                  NaT   \n",
       "31012           2.0              2                  NaT   \n",
       "\n",
       "                         creation_date  favorite_count  \\\n",
       "31008 2014-05-21 14:23:18.787000+00:00             NaN   \n",
       "31009 2013-11-22 14:02:20.213000+00:00             NaN   \n",
       "31010 2013-09-23 13:39:54.877000+00:00             NaN   \n",
       "31011 2012-06-06 12:30:11.113000+00:00             NaN   \n",
       "31012 2013-08-06 23:32:30.133000+00:00             0.0   \n",
       "\n",
       "                    last_activity_date  ... last_editor_display_name  \\\n",
       "31008 2014-05-21 18:47:41.913000+00:00  ...                     None   \n",
       "31009 2013-11-22 16:28:59.977000+00:00  ...                     None   \n",
       "31010 2013-09-23 14:09:56.303000+00:00  ...                     None   \n",
       "31011 2012-06-06 13:38:19.650000+00:00  ...                     None   \n",
       "31012 2013-08-07 00:04:55.913000+00:00  ...                     None   \n",
       "\n",
       "      last_editor_user_id  owner_display_name owner_user_id  parent_id  \\\n",
       "31008            394913.0                None      394913.0        NaN   \n",
       "31009            163809.0                None     3018640.0        NaN   \n",
       "31010                 NaN                None     2807424.0        NaN   \n",
       "31011           3431280.0                None     3431280.0        NaN   \n",
       "31012           1014938.0                None     2658762.0        NaN   \n",
       "\n",
       "       post_type_id  score                     tags view_count  \\\n",
       "31008             1     -1   ios|printing|bluetooth      249.0   \n",
       "31009             1     -1               r|bayesian      252.0   \n",
       "31010             1     -1            matlab|search      255.0   \n",
       "31011             1     -1  java|prepared-statement      767.0   \n",
       "31012             1     -1         python|json|dump     1791.0   \n",
       "\n",
       "                       tags_split  \n",
       "31008  [ios, printing, bluetooth]  \n",
       "31009               [r, bayesian]  \n",
       "31010            [matlab, search]  \n",
       "31011  [java, prepared-statement]  \n",
       "31012        [python, json, dump]  \n",
       "\n",
       "[5 rows x 21 columns]"
      ]
     },
     "execution_count": 120,
     "metadata": {},
     "output_type": "execute_result"
    }
   ],
   "source": [
    "df_posts.tail()"
   ]
  },
  {
   "cell_type": "code",
   "execution_count": 134,
   "metadata": {
    "Collapsed": "false"
   },
   "outputs": [
    {
     "data": {
      "text/html": [
       "<div>\n",
       "<style scoped>\n",
       "    .dataframe tbody tr th:only-of-type {\n",
       "        vertical-align: middle;\n",
       "    }\n",
       "\n",
       "    .dataframe tbody tr th {\n",
       "        vertical-align: top;\n",
       "    }\n",
       "\n",
       "    .dataframe thead th {\n",
       "        text-align: right;\n",
       "    }\n",
       "</style>\n",
       "<table border=\"1\" class=\"dataframe\">\n",
       "  <thead>\n",
       "    <tr style=\"text-align: right;\">\n",
       "      <th></th>\n",
       "      <th>id</th>\n",
       "      <th>title</th>\n",
       "      <th>body</th>\n",
       "      <th>accepted_answer_id</th>\n",
       "      <th>answer_count</th>\n",
       "      <th>comment_count</th>\n",
       "      <th>community_owned_date</th>\n",
       "      <th>creation_date</th>\n",
       "      <th>favorite_count</th>\n",
       "      <th>last_activity_date</th>\n",
       "      <th>...</th>\n",
       "      <th>last_editor_display_name</th>\n",
       "      <th>last_editor_user_id</th>\n",
       "      <th>owner_display_name</th>\n",
       "      <th>owner_user_id</th>\n",
       "      <th>parent_id</th>\n",
       "      <th>post_type_id</th>\n",
       "      <th>score</th>\n",
       "      <th>tags</th>\n",
       "      <th>view_count</th>\n",
       "      <th>tags_split</th>\n",
       "    </tr>\n",
       "  </thead>\n",
       "  <tbody>\n",
       "    <tr>\n",
       "      <td>7526</td>\n",
       "      <td>31890482</td>\n",
       "      <td>Seaborn - aesthetic options</td>\n",
       "      <td>&lt;p&gt;I'm plotting pandas data using a seaborn fa...</td>\n",
       "      <td>31900698.0</td>\n",
       "      <td>1.0</td>\n",
       "      <td>1</td>\n",
       "      <td>NaT</td>\n",
       "      <td>2015-08-08 06:48:19.930000+00:00</td>\n",
       "      <td>1.0</td>\n",
       "      <td>2015-08-09 15:46:01.113000+00:00</td>\n",
       "      <td>...</td>\n",
       "      <td>None</td>\n",
       "      <td>2605604.0</td>\n",
       "      <td>None</td>\n",
       "      <td>2605604.0</td>\n",
       "      <td>NaN</td>\n",
       "      <td>1</td>\n",
       "      <td>0</td>\n",
       "      <td>python|pandas|matplotlib|plot|seaborn</td>\n",
       "      <td>265.0</td>\n",
       "      <td>[python, pandas, matplotlib, plot, seaborn]</td>\n",
       "    </tr>\n",
       "    <tr>\n",
       "      <td>7552</td>\n",
       "      <td>19830737</td>\n",
       "      <td>Python from Coursera - For Loop with a little ...</td>\n",
       "      <td>&lt;p&gt;The question reads:&lt;/p&gt; &lt;blockquote&gt; &lt;p&gt;Wri...</td>\n",
       "      <td>19830894.0</td>\n",
       "      <td>2.0</td>\n",
       "      <td>2</td>\n",
       "      <td>NaT</td>\n",
       "      <td>2013-11-07 08:06:46.440000+00:00</td>\n",
       "      <td>1.0</td>\n",
       "      <td>2014-10-23 13:26:19.520000+00:00</td>\n",
       "      <td>...</td>\n",
       "      <td>None</td>\n",
       "      <td>100297.0</td>\n",
       "      <td>None</td>\n",
       "      <td>2609312.0</td>\n",
       "      <td>NaN</td>\n",
       "      <td>1</td>\n",
       "      <td>0</td>\n",
       "      <td>python|loops|for-loop</td>\n",
       "      <td>1802.0</td>\n",
       "      <td>[python, loops, for-loop]</td>\n",
       "    </tr>\n",
       "    <tr>\n",
       "      <td>7574</td>\n",
       "      <td>37263298</td>\n",
       "      <td>Why does python unpack float act differently f...</td>\n",
       "      <td>&lt;p&gt;I don't understand why the following code g...</td>\n",
       "      <td>NaN</td>\n",
       "      <td>0.0</td>\n",
       "      <td>4</td>\n",
       "      <td>NaT</td>\n",
       "      <td>2016-05-16 21:09:14.693000+00:00</td>\n",
       "      <td>NaN</td>\n",
       "      <td>2016-05-16 21:09:14.693000+00:00</td>\n",
       "      <td>...</td>\n",
       "      <td>None</td>\n",
       "      <td>NaN</td>\n",
       "      <td>None</td>\n",
       "      <td>4389807.0</td>\n",
       "      <td>NaN</td>\n",
       "      <td>1</td>\n",
       "      <td>0</td>\n",
       "      <td>python-2.7</td>\n",
       "      <td>12.0</td>\n",
       "      <td>[python-2.7]</td>\n",
       "    </tr>\n",
       "    <tr>\n",
       "      <td>7642</td>\n",
       "      <td>27042400</td>\n",
       "      <td>Python how to slice a netcdf file.</td>\n",
       "      <td>&lt;p&gt;I am trying to slice a variable from a netc...</td>\n",
       "      <td>NaN</td>\n",
       "      <td>1.0</td>\n",
       "      <td>1</td>\n",
       "      <td>NaT</td>\n",
       "      <td>2014-11-20 14:45:21.913000+00:00</td>\n",
       "      <td>NaN</td>\n",
       "      <td>2014-11-25 16:45:59.907000+00:00</td>\n",
       "      <td>...</td>\n",
       "      <td>None</td>\n",
       "      <td>NaN</td>\n",
       "      <td>None</td>\n",
       "      <td>4274671.0</td>\n",
       "      <td>NaN</td>\n",
       "      <td>1</td>\n",
       "      <td>0</td>\n",
       "      <td>python|arrays|netcdf</td>\n",
       "      <td>270.0</td>\n",
       "      <td>[python, arrays, netcdf]</td>\n",
       "    </tr>\n",
       "    <tr>\n",
       "      <td>7721</td>\n",
       "      <td>35706638</td>\n",
       "      <td>Formatting floats so they all have the same to...</td>\n",
       "      <td>&lt;p&gt;I'm looking to format numbers so they alway...</td>\n",
       "      <td>NaN</td>\n",
       "      <td>0.0</td>\n",
       "      <td>4</td>\n",
       "      <td>NaT</td>\n",
       "      <td>2016-02-29 18:18:11.643000+00:00</td>\n",
       "      <td>0.0</td>\n",
       "      <td>2016-02-29 19:13:21.640000+00:00</td>\n",
       "      <td>...</td>\n",
       "      <td>None</td>\n",
       "      <td>NaN</td>\n",
       "      <td>None</td>\n",
       "      <td>5999035.0</td>\n",
       "      <td>NaN</td>\n",
       "      <td>1</td>\n",
       "      <td>0</td>\n",
       "      <td>python-2.7</td>\n",
       "      <td>17.0</td>\n",
       "      <td>[python-2.7]</td>\n",
       "    </tr>\n",
       "    <tr>\n",
       "      <td>...</td>\n",
       "      <td>...</td>\n",
       "      <td>...</td>\n",
       "      <td>...</td>\n",
       "      <td>...</td>\n",
       "      <td>...</td>\n",
       "      <td>...</td>\n",
       "      <td>...</td>\n",
       "      <td>...</td>\n",
       "      <td>...</td>\n",
       "      <td>...</td>\n",
       "      <td>...</td>\n",
       "      <td>...</td>\n",
       "      <td>...</td>\n",
       "      <td>...</td>\n",
       "      <td>...</td>\n",
       "      <td>...</td>\n",
       "      <td>...</td>\n",
       "      <td>...</td>\n",
       "      <td>...</td>\n",
       "      <td>...</td>\n",
       "      <td>...</td>\n",
       "    </tr>\n",
       "    <tr>\n",
       "      <td>30793</td>\n",
       "      <td>10012651</td>\n",
       "      <td>Optimum Python Environment setup on Windows......</td>\n",
       "      <td>&lt;p&gt;My friend was able to give me a hint on ins...</td>\n",
       "      <td>NaN</td>\n",
       "      <td>1.0</td>\n",
       "      <td>3</td>\n",
       "      <td>NaT</td>\n",
       "      <td>2012-04-04 13:58:58.427000+00:00</td>\n",
       "      <td>1.0</td>\n",
       "      <td>2014-06-23 14:15:55.220000+00:00</td>\n",
       "      <td>...</td>\n",
       "      <td>None</td>\n",
       "      <td>60724.0</td>\n",
       "      <td>None</td>\n",
       "      <td>1260520.0</td>\n",
       "      <td>NaN</td>\n",
       "      <td>1</td>\n",
       "      <td>-1</td>\n",
       "      <td>python|windows|virtualenv|sublimetext|bpython</td>\n",
       "      <td>321.0</td>\n",
       "      <td>[python, windows, virtualenv, sublimetext, bpy...</td>\n",
       "    </tr>\n",
       "    <tr>\n",
       "      <td>30859</td>\n",
       "      <td>32479163</td>\n",
       "      <td>Correctly shutting down subprocesses in Python</td>\n",
       "      <td>&lt;p&gt;I have a Python server that starts multiple...</td>\n",
       "      <td>NaN</td>\n",
       "      <td>1.0</td>\n",
       "      <td>6</td>\n",
       "      <td>NaT</td>\n",
       "      <td>2015-09-09 12:07:50.790000+00:00</td>\n",
       "      <td>NaN</td>\n",
       "      <td>2015-09-10 16:25:02.013000+00:00</td>\n",
       "      <td>...</td>\n",
       "      <td>None</td>\n",
       "      <td>4745643.0</td>\n",
       "      <td>None</td>\n",
       "      <td>4745643.0</td>\n",
       "      <td>NaN</td>\n",
       "      <td>1</td>\n",
       "      <td>-1</td>\n",
       "      <td>python|subprocess|signals</td>\n",
       "      <td>90.0</td>\n",
       "      <td>[python, subprocess, signals]</td>\n",
       "    </tr>\n",
       "    <tr>\n",
       "      <td>30907</td>\n",
       "      <td>29143838</td>\n",
       "      <td>How do I send commands to the ADB shell direct...</td>\n",
       "      <td>&lt;p&gt;I want to send commands in the ADB shell it...</td>\n",
       "      <td>NaN</td>\n",
       "      <td>2.0</td>\n",
       "      <td>0</td>\n",
       "      <td>NaT</td>\n",
       "      <td>2015-03-19 11:50:44.827000+00:00</td>\n",
       "      <td>NaN</td>\n",
       "      <td>2015-12-11 09:33:09.477000+00:00</td>\n",
       "      <td>...</td>\n",
       "      <td>None</td>\n",
       "      <td>NaN</td>\n",
       "      <td>None</td>\n",
       "      <td>4688913.0</td>\n",
       "      <td>NaN</td>\n",
       "      <td>1</td>\n",
       "      <td>-1</td>\n",
       "      <td>windows|shell|python-3.x|adb|popen</td>\n",
       "      <td>382.0</td>\n",
       "      <td>[windows, shell, python-3.x, adb, popen]</td>\n",
       "    </tr>\n",
       "    <tr>\n",
       "      <td>30990</td>\n",
       "      <td>14244195</td>\n",
       "      <td>colorbar with a slider using wxpython</td>\n",
       "      <td>&lt;p&gt;I haven't seen an example of this but I wan...</td>\n",
       "      <td>14260324.0</td>\n",
       "      <td>1.0</td>\n",
       "      <td>3</td>\n",
       "      <td>NaT</td>\n",
       "      <td>2013-01-09 18:41:35.587000+00:00</td>\n",
       "      <td>NaN</td>\n",
       "      <td>2013-01-10 14:37:12.067000+00:00</td>\n",
       "      <td>...</td>\n",
       "      <td>None</td>\n",
       "      <td>NaN</td>\n",
       "      <td>None</td>\n",
       "      <td>1750948.0</td>\n",
       "      <td>NaN</td>\n",
       "      <td>1</td>\n",
       "      <td>-1</td>\n",
       "      <td>python|slider|wxpython|color-mapping</td>\n",
       "      <td>222.0</td>\n",
       "      <td>[python, slider, wxpython, color-mapping]</td>\n",
       "    </tr>\n",
       "    <tr>\n",
       "      <td>31012</td>\n",
       "      <td>18092230</td>\n",
       "      <td>Cannot json dump a python dictionary with id key</td>\n",
       "      <td>&lt;pre&gt;&lt;code&gt;json.dump({'id' : '3'}) File /Libra...</td>\n",
       "      <td>NaN</td>\n",
       "      <td>2.0</td>\n",
       "      <td>2</td>\n",
       "      <td>NaT</td>\n",
       "      <td>2013-08-06 23:32:30.133000+00:00</td>\n",
       "      <td>0.0</td>\n",
       "      <td>2013-08-07 00:04:55.913000+00:00</td>\n",
       "      <td>...</td>\n",
       "      <td>None</td>\n",
       "      <td>1014938.0</td>\n",
       "      <td>None</td>\n",
       "      <td>2658762.0</td>\n",
       "      <td>NaN</td>\n",
       "      <td>1</td>\n",
       "      <td>-1</td>\n",
       "      <td>python|json|dump</td>\n",
       "      <td>1791.0</td>\n",
       "      <td>[python, json, dump]</td>\n",
       "    </tr>\n",
       "  </tbody>\n",
       "</table>\n",
       "<p>612 rows × 21 columns</p>\n",
       "</div>"
      ],
      "text/plain": [
       "             id                                              title  \\\n",
       "7526   31890482                        Seaborn - aesthetic options   \n",
       "7552   19830737  Python from Coursera - For Loop with a little ...   \n",
       "7574   37263298  Why does python unpack float act differently f...   \n",
       "7642   27042400                 Python how to slice a netcdf file.   \n",
       "7721   35706638  Formatting floats so they all have the same to...   \n",
       "...         ...                                                ...   \n",
       "30793  10012651  Optimum Python Environment setup on Windows......   \n",
       "30859  32479163     Correctly shutting down subprocesses in Python   \n",
       "30907  29143838  How do I send commands to the ADB shell direct...   \n",
       "30990  14244195              colorbar with a slider using wxpython   \n",
       "31012  18092230   Cannot json dump a python dictionary with id key   \n",
       "\n",
       "                                                    body  accepted_answer_id  \\\n",
       "7526   <p>I'm plotting pandas data using a seaborn fa...          31900698.0   \n",
       "7552   <p>The question reads:</p> <blockquote> <p>Wri...          19830894.0   \n",
       "7574   <p>I don't understand why the following code g...                 NaN   \n",
       "7642   <p>I am trying to slice a variable from a netc...                 NaN   \n",
       "7721   <p>I'm looking to format numbers so they alway...                 NaN   \n",
       "...                                                  ...                 ...   \n",
       "30793  <p>My friend was able to give me a hint on ins...                 NaN   \n",
       "30859  <p>I have a Python server that starts multiple...                 NaN   \n",
       "30907  <p>I want to send commands in the ADB shell it...                 NaN   \n",
       "30990  <p>I haven't seen an example of this but I wan...          14260324.0   \n",
       "31012  <pre><code>json.dump({'id' : '3'}) File /Libra...                 NaN   \n",
       "\n",
       "       answer_count  comment_count community_owned_date  \\\n",
       "7526            1.0              1                  NaT   \n",
       "7552            2.0              2                  NaT   \n",
       "7574            0.0              4                  NaT   \n",
       "7642            1.0              1                  NaT   \n",
       "7721            0.0              4                  NaT   \n",
       "...             ...            ...                  ...   \n",
       "30793           1.0              3                  NaT   \n",
       "30859           1.0              6                  NaT   \n",
       "30907           2.0              0                  NaT   \n",
       "30990           1.0              3                  NaT   \n",
       "31012           2.0              2                  NaT   \n",
       "\n",
       "                         creation_date  favorite_count  \\\n",
       "7526  2015-08-08 06:48:19.930000+00:00             1.0   \n",
       "7552  2013-11-07 08:06:46.440000+00:00             1.0   \n",
       "7574  2016-05-16 21:09:14.693000+00:00             NaN   \n",
       "7642  2014-11-20 14:45:21.913000+00:00             NaN   \n",
       "7721  2016-02-29 18:18:11.643000+00:00             0.0   \n",
       "...                                ...             ...   \n",
       "30793 2012-04-04 13:58:58.427000+00:00             1.0   \n",
       "30859 2015-09-09 12:07:50.790000+00:00             NaN   \n",
       "30907 2015-03-19 11:50:44.827000+00:00             NaN   \n",
       "30990 2013-01-09 18:41:35.587000+00:00             NaN   \n",
       "31012 2013-08-06 23:32:30.133000+00:00             0.0   \n",
       "\n",
       "                    last_activity_date  ... last_editor_display_name  \\\n",
       "7526  2015-08-09 15:46:01.113000+00:00  ...                     None   \n",
       "7552  2014-10-23 13:26:19.520000+00:00  ...                     None   \n",
       "7574  2016-05-16 21:09:14.693000+00:00  ...                     None   \n",
       "7642  2014-11-25 16:45:59.907000+00:00  ...                     None   \n",
       "7721  2016-02-29 19:13:21.640000+00:00  ...                     None   \n",
       "...                                ...  ...                      ...   \n",
       "30793 2014-06-23 14:15:55.220000+00:00  ...                     None   \n",
       "30859 2015-09-10 16:25:02.013000+00:00  ...                     None   \n",
       "30907 2015-12-11 09:33:09.477000+00:00  ...                     None   \n",
       "30990 2013-01-10 14:37:12.067000+00:00  ...                     None   \n",
       "31012 2013-08-07 00:04:55.913000+00:00  ...                     None   \n",
       "\n",
       "      last_editor_user_id  owner_display_name owner_user_id  parent_id  \\\n",
       "7526            2605604.0                None     2605604.0        NaN   \n",
       "7552             100297.0                None     2609312.0        NaN   \n",
       "7574                  NaN                None     4389807.0        NaN   \n",
       "7642                  NaN                None     4274671.0        NaN   \n",
       "7721                  NaN                None     5999035.0        NaN   \n",
       "...                   ...                 ...           ...        ...   \n",
       "30793             60724.0                None     1260520.0        NaN   \n",
       "30859           4745643.0                None     4745643.0        NaN   \n",
       "30907                 NaN                None     4688913.0        NaN   \n",
       "30990                 NaN                None     1750948.0        NaN   \n",
       "31012           1014938.0                None     2658762.0        NaN   \n",
       "\n",
       "       post_type_id  score                                           tags  \\\n",
       "7526              1      0          python|pandas|matplotlib|plot|seaborn   \n",
       "7552              1      0                          python|loops|for-loop   \n",
       "7574              1      0                                     python-2.7   \n",
       "7642              1      0                           python|arrays|netcdf   \n",
       "7721              1      0                                     python-2.7   \n",
       "...             ...    ...                                            ...   \n",
       "30793             1     -1  python|windows|virtualenv|sublimetext|bpython   \n",
       "30859             1     -1                      python|subprocess|signals   \n",
       "30907             1     -1             windows|shell|python-3.x|adb|popen   \n",
       "30990             1     -1           python|slider|wxpython|color-mapping   \n",
       "31012             1     -1                               python|json|dump   \n",
       "\n",
       "      view_count                                         tags_split  \n",
       "7526       265.0        [python, pandas, matplotlib, plot, seaborn]  \n",
       "7552      1802.0                          [python, loops, for-loop]  \n",
       "7574        12.0                                       [python-2.7]  \n",
       "7642       270.0                           [python, arrays, netcdf]  \n",
       "7721        17.0                                       [python-2.7]  \n",
       "...          ...                                                ...  \n",
       "30793      321.0  [python, windows, virtualenv, sublimetext, bpy...  \n",
       "30859       90.0                      [python, subprocess, signals]  \n",
       "30907      382.0           [windows, shell, python-3.x, adb, popen]  \n",
       "30990      222.0          [python, slider, wxpython, color-mapping]  \n",
       "31012     1791.0                               [python, json, dump]  \n",
       "\n",
       "[612 rows x 21 columns]"
      ]
     },
     "execution_count": 134,
     "metadata": {},
     "output_type": "execute_result"
    }
   ],
   "source": [
    "df_posts[df_posts['tags'].str.contains('python')]"
   ]
  },
  {
   "cell_type": "code",
   "execution_count": 144,
   "metadata": {
    "Collapsed": "false"
   },
   "outputs": [],
   "source": [
    "def create_wordcloud(df: pd.DataFrame):\n",
    "    posts = df[['body']].apply(lambda x: ' '.join(x), axis=0)[0]\n",
    "    soup = BeautifulSoup(posts, 'html.parser')\n",
    "    soup.get_text()\n",
    "    \n",
    "    stopwords = set(STOPWORDS)\n",
    "    wordcloud_obj = WordCloud(stopwords=stopwords).generate(posts)\n",
    "    \n",
    "    return(wordcloud_obj)"
   ]
  },
  {
   "cell_type": "code",
   "execution_count": 145,
   "metadata": {
    "Collapsed": "false"
   },
   "outputs": [
    {
     "ename": "TypeError",
     "evalue": "('sequence item 340: expected str instance, NoneType found', 'occurred at index body')",
     "output_type": "error",
     "traceback": [
      "\u001b[1;31m---------------------------------------------------------------------------\u001b[0m",
      "\u001b[1;31mTypeError\u001b[0m                                 Traceback (most recent call last)",
      "\u001b[1;32m<ipython-input-145-dbcd21112ce1>\u001b[0m in \u001b[0;36m<module>\u001b[1;34m\u001b[0m\n\u001b[1;32m----> 1\u001b[1;33m \u001b[0mtemp_obj\u001b[0m \u001b[1;33m=\u001b[0m \u001b[0mcreate_wordcloud\u001b[0m\u001b[1;33m(\u001b[0m\u001b[0mdf_posts\u001b[0m\u001b[1;33m)\u001b[0m\u001b[1;33m\u001b[0m\u001b[1;33m\u001b[0m\u001b[0m\n\u001b[0m",
      "\u001b[1;32m<ipython-input-144-3688f0369546>\u001b[0m in \u001b[0;36mcreate_wordcloud\u001b[1;34m(df)\u001b[0m\n\u001b[0;32m      1\u001b[0m \u001b[1;32mdef\u001b[0m \u001b[0mcreate_wordcloud\u001b[0m\u001b[1;33m(\u001b[0m\u001b[0mdf\u001b[0m\u001b[1;33m:\u001b[0m \u001b[0mpd\u001b[0m\u001b[1;33m.\u001b[0m\u001b[0mDataFrame\u001b[0m\u001b[1;33m)\u001b[0m\u001b[1;33m:\u001b[0m\u001b[1;33m\u001b[0m\u001b[1;33m\u001b[0m\u001b[0m\n\u001b[1;32m----> 2\u001b[1;33m     \u001b[0mposts\u001b[0m \u001b[1;33m=\u001b[0m \u001b[0mdf\u001b[0m\u001b[1;33m[\u001b[0m\u001b[1;33m[\u001b[0m\u001b[1;34m'body'\u001b[0m\u001b[1;33m]\u001b[0m\u001b[1;33m]\u001b[0m\u001b[1;33m.\u001b[0m\u001b[0mapply\u001b[0m\u001b[1;33m(\u001b[0m\u001b[1;32mlambda\u001b[0m \u001b[0mx\u001b[0m\u001b[1;33m:\u001b[0m \u001b[1;34m' '\u001b[0m\u001b[1;33m.\u001b[0m\u001b[0mjoin\u001b[0m\u001b[1;33m(\u001b[0m\u001b[0mx\u001b[0m\u001b[1;33m)\u001b[0m\u001b[1;33m,\u001b[0m \u001b[0maxis\u001b[0m\u001b[1;33m=\u001b[0m\u001b[1;36m0\u001b[0m\u001b[1;33m)\u001b[0m\u001b[1;33m[\u001b[0m\u001b[1;36m0\u001b[0m\u001b[1;33m]\u001b[0m\u001b[1;33m\u001b[0m\u001b[1;33m\u001b[0m\u001b[0m\n\u001b[0m\u001b[0;32m      3\u001b[0m     \u001b[0msoup\u001b[0m \u001b[1;33m=\u001b[0m \u001b[0mBeautifulSoup\u001b[0m\u001b[1;33m(\u001b[0m\u001b[0mposts\u001b[0m\u001b[1;33m,\u001b[0m \u001b[1;34m'html.parser'\u001b[0m\u001b[1;33m)\u001b[0m\u001b[1;33m\u001b[0m\u001b[1;33m\u001b[0m\u001b[0m\n\u001b[0;32m      4\u001b[0m     \u001b[0msoup\u001b[0m\u001b[1;33m.\u001b[0m\u001b[0mget_text\u001b[0m\u001b[1;33m(\u001b[0m\u001b[1;33m)\u001b[0m\u001b[1;33m\u001b[0m\u001b[1;33m\u001b[0m\u001b[0m\n\u001b[0;32m      5\u001b[0m \u001b[1;33m\u001b[0m\u001b[0m\n",
      "\u001b[1;32m~\\.conda\\envs\\env_nlp_text_class\\lib\\site-packages\\pandas\\core\\frame.py\u001b[0m in \u001b[0;36mapply\u001b[1;34m(self, func, axis, broadcast, raw, reduce, result_type, args, **kwds)\u001b[0m\n\u001b[0;32m   6911\u001b[0m             \u001b[0mkwds\u001b[0m\u001b[1;33m=\u001b[0m\u001b[0mkwds\u001b[0m\u001b[1;33m,\u001b[0m\u001b[1;33m\u001b[0m\u001b[1;33m\u001b[0m\u001b[0m\n\u001b[0;32m   6912\u001b[0m         )\n\u001b[1;32m-> 6913\u001b[1;33m         \u001b[1;32mreturn\u001b[0m \u001b[0mop\u001b[0m\u001b[1;33m.\u001b[0m\u001b[0mget_result\u001b[0m\u001b[1;33m(\u001b[0m\u001b[1;33m)\u001b[0m\u001b[1;33m\u001b[0m\u001b[1;33m\u001b[0m\u001b[0m\n\u001b[0m\u001b[0;32m   6914\u001b[0m \u001b[1;33m\u001b[0m\u001b[0m\n\u001b[0;32m   6915\u001b[0m     \u001b[1;32mdef\u001b[0m \u001b[0mapplymap\u001b[0m\u001b[1;33m(\u001b[0m\u001b[0mself\u001b[0m\u001b[1;33m,\u001b[0m \u001b[0mfunc\u001b[0m\u001b[1;33m)\u001b[0m\u001b[1;33m:\u001b[0m\u001b[1;33m\u001b[0m\u001b[1;33m\u001b[0m\u001b[0m\n",
      "\u001b[1;32m~\\.conda\\envs\\env_nlp_text_class\\lib\\site-packages\\pandas\\core\\apply.py\u001b[0m in \u001b[0;36mget_result\u001b[1;34m(self)\u001b[0m\n\u001b[0;32m    184\u001b[0m             \u001b[1;32mreturn\u001b[0m \u001b[0mself\u001b[0m\u001b[1;33m.\u001b[0m\u001b[0mapply_raw\u001b[0m\u001b[1;33m(\u001b[0m\u001b[1;33m)\u001b[0m\u001b[1;33m\u001b[0m\u001b[1;33m\u001b[0m\u001b[0m\n\u001b[0;32m    185\u001b[0m \u001b[1;33m\u001b[0m\u001b[0m\n\u001b[1;32m--> 186\u001b[1;33m         \u001b[1;32mreturn\u001b[0m \u001b[0mself\u001b[0m\u001b[1;33m.\u001b[0m\u001b[0mapply_standard\u001b[0m\u001b[1;33m(\u001b[0m\u001b[1;33m)\u001b[0m\u001b[1;33m\u001b[0m\u001b[1;33m\u001b[0m\u001b[0m\n\u001b[0m\u001b[0;32m    187\u001b[0m \u001b[1;33m\u001b[0m\u001b[0m\n\u001b[0;32m    188\u001b[0m     \u001b[1;32mdef\u001b[0m \u001b[0mapply_empty_result\u001b[0m\u001b[1;33m(\u001b[0m\u001b[0mself\u001b[0m\u001b[1;33m)\u001b[0m\u001b[1;33m:\u001b[0m\u001b[1;33m\u001b[0m\u001b[1;33m\u001b[0m\u001b[0m\n",
      "\u001b[1;32m~\\.conda\\envs\\env_nlp_text_class\\lib\\site-packages\\pandas\\core\\apply.py\u001b[0m in \u001b[0;36mapply_standard\u001b[1;34m(self)\u001b[0m\n\u001b[0;32m    290\u001b[0m \u001b[1;33m\u001b[0m\u001b[0m\n\u001b[0;32m    291\u001b[0m         \u001b[1;31m# compute the result using the series generator\u001b[0m\u001b[1;33m\u001b[0m\u001b[1;33m\u001b[0m\u001b[1;33m\u001b[0m\u001b[0m\n\u001b[1;32m--> 292\u001b[1;33m         \u001b[0mself\u001b[0m\u001b[1;33m.\u001b[0m\u001b[0mapply_series_generator\u001b[0m\u001b[1;33m(\u001b[0m\u001b[1;33m)\u001b[0m\u001b[1;33m\u001b[0m\u001b[1;33m\u001b[0m\u001b[0m\n\u001b[0m\u001b[0;32m    293\u001b[0m \u001b[1;33m\u001b[0m\u001b[0m\n\u001b[0;32m    294\u001b[0m         \u001b[1;31m# wrap results\u001b[0m\u001b[1;33m\u001b[0m\u001b[1;33m\u001b[0m\u001b[1;33m\u001b[0m\u001b[0m\n",
      "\u001b[1;32m~\\.conda\\envs\\env_nlp_text_class\\lib\\site-packages\\pandas\\core\\apply.py\u001b[0m in \u001b[0;36mapply_series_generator\u001b[1;34m(self)\u001b[0m\n\u001b[0;32m    319\u001b[0m             \u001b[1;32mtry\u001b[0m\u001b[1;33m:\u001b[0m\u001b[1;33m\u001b[0m\u001b[1;33m\u001b[0m\u001b[0m\n\u001b[0;32m    320\u001b[0m                 \u001b[1;32mfor\u001b[0m \u001b[0mi\u001b[0m\u001b[1;33m,\u001b[0m \u001b[0mv\u001b[0m \u001b[1;32min\u001b[0m \u001b[0menumerate\u001b[0m\u001b[1;33m(\u001b[0m\u001b[0mseries_gen\u001b[0m\u001b[1;33m)\u001b[0m\u001b[1;33m:\u001b[0m\u001b[1;33m\u001b[0m\u001b[1;33m\u001b[0m\u001b[0m\n\u001b[1;32m--> 321\u001b[1;33m                     \u001b[0mresults\u001b[0m\u001b[1;33m[\u001b[0m\u001b[0mi\u001b[0m\u001b[1;33m]\u001b[0m \u001b[1;33m=\u001b[0m \u001b[0mself\u001b[0m\u001b[1;33m.\u001b[0m\u001b[0mf\u001b[0m\u001b[1;33m(\u001b[0m\u001b[0mv\u001b[0m\u001b[1;33m)\u001b[0m\u001b[1;33m\u001b[0m\u001b[1;33m\u001b[0m\u001b[0m\n\u001b[0m\u001b[0;32m    322\u001b[0m                     \u001b[0mkeys\u001b[0m\u001b[1;33m.\u001b[0m\u001b[0mappend\u001b[0m\u001b[1;33m(\u001b[0m\u001b[0mv\u001b[0m\u001b[1;33m.\u001b[0m\u001b[0mname\u001b[0m\u001b[1;33m)\u001b[0m\u001b[1;33m\u001b[0m\u001b[1;33m\u001b[0m\u001b[0m\n\u001b[0;32m    323\u001b[0m             \u001b[1;32mexcept\u001b[0m \u001b[0mException\u001b[0m \u001b[1;32mas\u001b[0m \u001b[0me\u001b[0m\u001b[1;33m:\u001b[0m\u001b[1;33m\u001b[0m\u001b[1;33m\u001b[0m\u001b[0m\n",
      "\u001b[1;32m<ipython-input-144-3688f0369546>\u001b[0m in \u001b[0;36m<lambda>\u001b[1;34m(x)\u001b[0m\n\u001b[0;32m      1\u001b[0m \u001b[1;32mdef\u001b[0m \u001b[0mcreate_wordcloud\u001b[0m\u001b[1;33m(\u001b[0m\u001b[0mdf\u001b[0m\u001b[1;33m:\u001b[0m \u001b[0mpd\u001b[0m\u001b[1;33m.\u001b[0m\u001b[0mDataFrame\u001b[0m\u001b[1;33m)\u001b[0m\u001b[1;33m:\u001b[0m\u001b[1;33m\u001b[0m\u001b[1;33m\u001b[0m\u001b[0m\n\u001b[1;32m----> 2\u001b[1;33m     \u001b[0mposts\u001b[0m \u001b[1;33m=\u001b[0m \u001b[0mdf\u001b[0m\u001b[1;33m[\u001b[0m\u001b[1;33m[\u001b[0m\u001b[1;34m'body'\u001b[0m\u001b[1;33m]\u001b[0m\u001b[1;33m]\u001b[0m\u001b[1;33m.\u001b[0m\u001b[0mapply\u001b[0m\u001b[1;33m(\u001b[0m\u001b[1;32mlambda\u001b[0m \u001b[0mx\u001b[0m\u001b[1;33m:\u001b[0m \u001b[1;34m' '\u001b[0m\u001b[1;33m.\u001b[0m\u001b[0mjoin\u001b[0m\u001b[1;33m(\u001b[0m\u001b[0mx\u001b[0m\u001b[1;33m)\u001b[0m\u001b[1;33m,\u001b[0m \u001b[0maxis\u001b[0m\u001b[1;33m=\u001b[0m\u001b[1;36m0\u001b[0m\u001b[1;33m)\u001b[0m\u001b[1;33m[\u001b[0m\u001b[1;36m0\u001b[0m\u001b[1;33m]\u001b[0m\u001b[1;33m\u001b[0m\u001b[1;33m\u001b[0m\u001b[0m\n\u001b[0m\u001b[0;32m      3\u001b[0m     \u001b[0msoup\u001b[0m \u001b[1;33m=\u001b[0m \u001b[0mBeautifulSoup\u001b[0m\u001b[1;33m(\u001b[0m\u001b[0mposts\u001b[0m\u001b[1;33m,\u001b[0m \u001b[1;34m'html.parser'\u001b[0m\u001b[1;33m)\u001b[0m\u001b[1;33m\u001b[0m\u001b[1;33m\u001b[0m\u001b[0m\n\u001b[0;32m      4\u001b[0m     \u001b[0msoup\u001b[0m\u001b[1;33m.\u001b[0m\u001b[0mget_text\u001b[0m\u001b[1;33m(\u001b[0m\u001b[1;33m)\u001b[0m\u001b[1;33m\u001b[0m\u001b[1;33m\u001b[0m\u001b[0m\n\u001b[0;32m      5\u001b[0m \u001b[1;33m\u001b[0m\u001b[0m\n",
      "\u001b[1;31mTypeError\u001b[0m: ('sequence item 340: expected str instance, NoneType found', 'occurred at index body')"
     ]
    }
   ],
   "source": [
    "temp_obj = create_wordcloud(df_posts)"
   ]
  },
  {
   "cell_type": "code",
   "execution_count": 143,
   "metadata": {
    "Collapsed": "false"
   },
   "outputs": [
    {
     "ename": "TypeError",
     "evalue": "('sequence item 340: expected str instance, NoneType found', 'occurred at index body')",
     "output_type": "error",
     "traceback": [
      "\u001b[1;31m---------------------------------------------------------------------------\u001b[0m",
      "\u001b[1;31mTypeError\u001b[0m                                 Traceback (most recent call last)",
      "\u001b[1;32m<ipython-input-143-0464f39d37b9>\u001b[0m in \u001b[0;36m<module>\u001b[1;34m\u001b[0m\n\u001b[1;32m----> 1\u001b[1;33m \u001b[0mdf_posts\u001b[0m\u001b[1;33m[\u001b[0m\u001b[1;33m[\u001b[0m\u001b[1;34m'body'\u001b[0m\u001b[1;33m]\u001b[0m\u001b[1;33m]\u001b[0m\u001b[1;33m.\u001b[0m\u001b[0mapply\u001b[0m\u001b[1;33m(\u001b[0m\u001b[1;32mlambda\u001b[0m \u001b[0mx\u001b[0m\u001b[1;33m:\u001b[0m \u001b[1;34m' '\u001b[0m\u001b[1;33m.\u001b[0m\u001b[0mjoin\u001b[0m\u001b[1;33m(\u001b[0m\u001b[0mx\u001b[0m\u001b[1;33m)\u001b[0m\u001b[1;33m,\u001b[0m \u001b[0maxis\u001b[0m\u001b[1;33m=\u001b[0m\u001b[1;36m0\u001b[0m\u001b[1;33m)\u001b[0m\u001b[1;33m[\u001b[0m\u001b[1;36m0\u001b[0m\u001b[1;33m]\u001b[0m\u001b[1;33m\u001b[0m\u001b[1;33m\u001b[0m\u001b[0m\n\u001b[0m",
      "\u001b[1;32m~\\.conda\\envs\\env_nlp_text_class\\lib\\site-packages\\pandas\\core\\frame.py\u001b[0m in \u001b[0;36mapply\u001b[1;34m(self, func, axis, broadcast, raw, reduce, result_type, args, **kwds)\u001b[0m\n\u001b[0;32m   6911\u001b[0m             \u001b[0mkwds\u001b[0m\u001b[1;33m=\u001b[0m\u001b[0mkwds\u001b[0m\u001b[1;33m,\u001b[0m\u001b[1;33m\u001b[0m\u001b[1;33m\u001b[0m\u001b[0m\n\u001b[0;32m   6912\u001b[0m         )\n\u001b[1;32m-> 6913\u001b[1;33m         \u001b[1;32mreturn\u001b[0m \u001b[0mop\u001b[0m\u001b[1;33m.\u001b[0m\u001b[0mget_result\u001b[0m\u001b[1;33m(\u001b[0m\u001b[1;33m)\u001b[0m\u001b[1;33m\u001b[0m\u001b[1;33m\u001b[0m\u001b[0m\n\u001b[0m\u001b[0;32m   6914\u001b[0m \u001b[1;33m\u001b[0m\u001b[0m\n\u001b[0;32m   6915\u001b[0m     \u001b[1;32mdef\u001b[0m \u001b[0mapplymap\u001b[0m\u001b[1;33m(\u001b[0m\u001b[0mself\u001b[0m\u001b[1;33m,\u001b[0m \u001b[0mfunc\u001b[0m\u001b[1;33m)\u001b[0m\u001b[1;33m:\u001b[0m\u001b[1;33m\u001b[0m\u001b[1;33m\u001b[0m\u001b[0m\n",
      "\u001b[1;32m~\\.conda\\envs\\env_nlp_text_class\\lib\\site-packages\\pandas\\core\\apply.py\u001b[0m in \u001b[0;36mget_result\u001b[1;34m(self)\u001b[0m\n\u001b[0;32m    184\u001b[0m             \u001b[1;32mreturn\u001b[0m \u001b[0mself\u001b[0m\u001b[1;33m.\u001b[0m\u001b[0mapply_raw\u001b[0m\u001b[1;33m(\u001b[0m\u001b[1;33m)\u001b[0m\u001b[1;33m\u001b[0m\u001b[1;33m\u001b[0m\u001b[0m\n\u001b[0;32m    185\u001b[0m \u001b[1;33m\u001b[0m\u001b[0m\n\u001b[1;32m--> 186\u001b[1;33m         \u001b[1;32mreturn\u001b[0m \u001b[0mself\u001b[0m\u001b[1;33m.\u001b[0m\u001b[0mapply_standard\u001b[0m\u001b[1;33m(\u001b[0m\u001b[1;33m)\u001b[0m\u001b[1;33m\u001b[0m\u001b[1;33m\u001b[0m\u001b[0m\n\u001b[0m\u001b[0;32m    187\u001b[0m \u001b[1;33m\u001b[0m\u001b[0m\n\u001b[0;32m    188\u001b[0m     \u001b[1;32mdef\u001b[0m \u001b[0mapply_empty_result\u001b[0m\u001b[1;33m(\u001b[0m\u001b[0mself\u001b[0m\u001b[1;33m)\u001b[0m\u001b[1;33m:\u001b[0m\u001b[1;33m\u001b[0m\u001b[1;33m\u001b[0m\u001b[0m\n",
      "\u001b[1;32m~\\.conda\\envs\\env_nlp_text_class\\lib\\site-packages\\pandas\\core\\apply.py\u001b[0m in \u001b[0;36mapply_standard\u001b[1;34m(self)\u001b[0m\n\u001b[0;32m    290\u001b[0m \u001b[1;33m\u001b[0m\u001b[0m\n\u001b[0;32m    291\u001b[0m         \u001b[1;31m# compute the result using the series generator\u001b[0m\u001b[1;33m\u001b[0m\u001b[1;33m\u001b[0m\u001b[1;33m\u001b[0m\u001b[0m\n\u001b[1;32m--> 292\u001b[1;33m         \u001b[0mself\u001b[0m\u001b[1;33m.\u001b[0m\u001b[0mapply_series_generator\u001b[0m\u001b[1;33m(\u001b[0m\u001b[1;33m)\u001b[0m\u001b[1;33m\u001b[0m\u001b[1;33m\u001b[0m\u001b[0m\n\u001b[0m\u001b[0;32m    293\u001b[0m \u001b[1;33m\u001b[0m\u001b[0m\n\u001b[0;32m    294\u001b[0m         \u001b[1;31m# wrap results\u001b[0m\u001b[1;33m\u001b[0m\u001b[1;33m\u001b[0m\u001b[1;33m\u001b[0m\u001b[0m\n",
      "\u001b[1;32m~\\.conda\\envs\\env_nlp_text_class\\lib\\site-packages\\pandas\\core\\apply.py\u001b[0m in \u001b[0;36mapply_series_generator\u001b[1;34m(self)\u001b[0m\n\u001b[0;32m    319\u001b[0m             \u001b[1;32mtry\u001b[0m\u001b[1;33m:\u001b[0m\u001b[1;33m\u001b[0m\u001b[1;33m\u001b[0m\u001b[0m\n\u001b[0;32m    320\u001b[0m                 \u001b[1;32mfor\u001b[0m \u001b[0mi\u001b[0m\u001b[1;33m,\u001b[0m \u001b[0mv\u001b[0m \u001b[1;32min\u001b[0m \u001b[0menumerate\u001b[0m\u001b[1;33m(\u001b[0m\u001b[0mseries_gen\u001b[0m\u001b[1;33m)\u001b[0m\u001b[1;33m:\u001b[0m\u001b[1;33m\u001b[0m\u001b[1;33m\u001b[0m\u001b[0m\n\u001b[1;32m--> 321\u001b[1;33m                     \u001b[0mresults\u001b[0m\u001b[1;33m[\u001b[0m\u001b[0mi\u001b[0m\u001b[1;33m]\u001b[0m \u001b[1;33m=\u001b[0m \u001b[0mself\u001b[0m\u001b[1;33m.\u001b[0m\u001b[0mf\u001b[0m\u001b[1;33m(\u001b[0m\u001b[0mv\u001b[0m\u001b[1;33m)\u001b[0m\u001b[1;33m\u001b[0m\u001b[1;33m\u001b[0m\u001b[0m\n\u001b[0m\u001b[0;32m    322\u001b[0m                     \u001b[0mkeys\u001b[0m\u001b[1;33m.\u001b[0m\u001b[0mappend\u001b[0m\u001b[1;33m(\u001b[0m\u001b[0mv\u001b[0m\u001b[1;33m.\u001b[0m\u001b[0mname\u001b[0m\u001b[1;33m)\u001b[0m\u001b[1;33m\u001b[0m\u001b[1;33m\u001b[0m\u001b[0m\n\u001b[0;32m    323\u001b[0m             \u001b[1;32mexcept\u001b[0m \u001b[0mException\u001b[0m \u001b[1;32mas\u001b[0m \u001b[0me\u001b[0m\u001b[1;33m:\u001b[0m\u001b[1;33m\u001b[0m\u001b[1;33m\u001b[0m\u001b[0m\n",
      "\u001b[1;32m<ipython-input-143-0464f39d37b9>\u001b[0m in \u001b[0;36m<lambda>\u001b[1;34m(x)\u001b[0m\n\u001b[1;32m----> 1\u001b[1;33m \u001b[0mdf_posts\u001b[0m\u001b[1;33m[\u001b[0m\u001b[1;33m[\u001b[0m\u001b[1;34m'body'\u001b[0m\u001b[1;33m]\u001b[0m\u001b[1;33m]\u001b[0m\u001b[1;33m.\u001b[0m\u001b[0mapply\u001b[0m\u001b[1;33m(\u001b[0m\u001b[1;32mlambda\u001b[0m \u001b[0mx\u001b[0m\u001b[1;33m:\u001b[0m \u001b[1;34m' '\u001b[0m\u001b[1;33m.\u001b[0m\u001b[0mjoin\u001b[0m\u001b[1;33m(\u001b[0m\u001b[0mx\u001b[0m\u001b[1;33m)\u001b[0m\u001b[1;33m,\u001b[0m \u001b[0maxis\u001b[0m\u001b[1;33m=\u001b[0m\u001b[1;36m0\u001b[0m\u001b[1;33m)\u001b[0m\u001b[1;33m[\u001b[0m\u001b[1;36m0\u001b[0m\u001b[1;33m]\u001b[0m\u001b[1;33m\u001b[0m\u001b[1;33m\u001b[0m\u001b[0m\n\u001b[0m",
      "\u001b[1;31mTypeError\u001b[0m: ('sequence item 340: expected str instance, NoneType found', 'occurred at index body')"
     ]
    }
   ],
   "source": [
    "df_posts[['body']].apply(lambda x: ' '.join(x), axis=0)[0]"
   ]
  },
  {
   "cell_type": "code",
   "execution_count": null,
   "metadata": {
    "Collapsed": "false"
   },
   "outputs": [],
   "source": []
  }
 ],
 "metadata": {
  "kernelspec": {
   "display_name": "Python [conda env:.conda-env_nlp_text_class]",
   "language": "python",
   "name": "conda-env-.conda-env_nlp_text_class-py"
  },
  "language_info": {
   "codemirror_mode": {
    "name": "ipython",
    "version": 3
   },
   "file_extension": ".py",
   "mimetype": "text/x-python",
   "name": "python",
   "nbconvert_exporter": "python",
   "pygments_lexer": "ipython3",
   "version": "3.6.9"
  },
  "toc-autonumbering": true,
  "toc-showmarkdowntxt": true
 },
 "nbformat": 4,
 "nbformat_minor": 4
}
