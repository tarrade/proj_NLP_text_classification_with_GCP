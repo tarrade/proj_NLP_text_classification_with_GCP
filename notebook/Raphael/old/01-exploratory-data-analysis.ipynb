{
 "cells": [
  {
   "cell_type": "raw",
   "metadata": {
    "Collapsed": "false",
    "toc-hr-collapsed": true,
    "toc-nb-collapsed": true
   },
   "source": [
    "# Environment"
   ]
  },
  {
   "cell_type": "markdown",
   "metadata": {
    "Collapsed": "false"
   },
   "source": [
    "## Libraries"
   ]
  },
  {
   "cell_type": "code",
   "execution_count": null,
   "metadata": {
    "Collapsed": "false"
   },
   "outputs": [],
   "source": [
    "import os, subprocess, json, requests, getpass, urllib.parse, sys, pathlib, warnings, numpy as np, \\\n",
    "pandas_profiling,seaborn as sns, pandas as pd, matplotlib.pyplot as plt, google.cloud.bigquery as bigquery\n",
    "\n",
    "from bs4 import BeautifulSoup\n",
    "from astropy.visualization import hist as astro_hist\n",
    "from wordcloud import WordCloud, STOPWORDS, ImageColorGenerator"
   ]
  },
  {
   "cell_type": "markdown",
   "metadata": {
    "Collapsed": "false"
   },
   "source": [
    "## Specifying the Working Directory"
   ]
  },
  {
   "cell_type": "code",
   "execution_count": null,
   "metadata": {
    "Collapsed": "false",
    "code_folding": []
   },
   "outputs": [],
   "source": [
    "workingdir=os.getcwd()\n",
    "d=[d for d in os.listdir(workingdir)]\n",
    "n=0\n",
    "while not set(['notebook']).issubset(set(d)):\n",
    "    workingdir=str(pathlib.Path(workingdir).parents[0])\n",
    "\n",
    "    d=[d for d in os.listdir(str(workingdir))]\n",
    "    n+=1\n",
    "    if n>5:\n",
    "        break\n",
    "sys.path.insert(0, workingdir)\n",
    "os.chdir(workingdir)"
   ]
  },
  {
   "cell_type": "markdown",
   "metadata": {
    "Collapsed": "false"
   },
   "source": [
    "## Dealing with Warnings"
   ]
  },
  {
   "cell_type": "code",
   "execution_count": null,
   "metadata": {
    "Collapsed": "false"
   },
   "outputs": [],
   "source": [
    "pd.set_option('mode.chained_assignment', None)"
   ]
  },
  {
   "cell_type": "markdown",
   "metadata": {
    "Collapsed": "false"
   },
   "source": [
    "## Function Definitions"
   ]
  },
  {
   "cell_type": "code",
   "execution_count": null,
   "metadata": {
    "Collapsed": "false"
   },
   "outputs": [],
   "source": [
    "def create_wordcloud(df: pd.DataFrame, what: str):\n",
    "    posts = df[['body']].apply(lambda x: ' '.join(x), axis=0)[0]\n",
    "    soup = BeautifulSoup(posts, 'html.parser')\n",
    "    obj_array = soup.find_all(what)\n",
    "    text = ''\n",
    "    \n",
    "    for obj in obj_array:\n",
    "        text += obj.text\n",
    "    \n",
    "    stopwords = set(STOPWORDS)\n",
    "    wordcloud_obj = WordCloud(stopwords=stopwords).generate(text)\n",
    "    \n",
    "    return(wordcloud_obj)"
   ]
  },
  {
   "cell_type": "code",
   "execution_count": null,
   "metadata": {
    "Collapsed": "false"
   },
   "outputs": [],
   "source": [
    "def split_tags(tags: str) -> list:\n",
    "    return tags.split('|')"
   ]
  },
  {
   "cell_type": "markdown",
   "metadata": {
    "Collapsed": "false"
   },
   "source": [
    "## Specifying GCP-Related Variables "
   ]
  },
  {
   "cell_type": "code",
   "execution_count": null,
   "metadata": {
    "Collapsed": "false"
   },
   "outputs": [],
   "source": [
    "os.environ['PROJECT_ID'] = subprocess.run('gcloud config list project --format \"value(core.project)\"', \n",
    "                                          shell=True, check=True, stdout=subprocess.PIPE) \\\n",
    "                                            .stdout.decode().replace('\\n', '').replace('\\r', '')\n",
    "print(os.environ['PROJECT_ID'])"
   ]
  },
  {
   "cell_type": "code",
   "execution_count": null,
   "metadata": {
    "Collapsed": "false"
   },
   "outputs": [],
   "source": [
    "os.environ['BUCKET_NAME']='axa-ch-machine-learning-poc-dev'"
   ]
  },
  {
   "cell_type": "code",
   "execution_count": null,
   "metadata": {
    "Collapsed": "false"
   },
   "outputs": [],
   "source": [
    "try:\n",
    "    tmp=os.environ['PROJECT_ID']\n",
    "except:\n",
    "    print('Env variable PROJECT not defined!') \n",
    "\n",
    "try:\n",
    "    tmp=os.environ['BUCKET_NAME']\n",
    "except:\n",
    "    print('Env variable BUCKET_NAME not defined!') \n",
    "    \n",
    "try:    \n",
    "    tmp=os.environ['GOOGLE_APPLICATION_CREDENTIALS']\n",
    "except:\n",
    "    print('Env variable GOOGLE_APPLICATION_CREDENTIALS not defined!') \n",
    "\n",
    "try:\n",
    "    tmp=os.environ['REQUESTS_CA_BUNDLE']\n",
    "except:\n",
    "    print('Env variable REQUESTS_CA_BUNDLE not defined!') \n",
    "\n",
    "try:\n",
    "    tmp=os.environ['AXA_CH_CA_BUNDLE']\n",
    "except:\n",
    "    print('Env variable AXA_CA_CA_BUNDLE not defined!') "
   ]
  },
  {
   "cell_type": "markdown",
   "metadata": {
    "Collapsed": "false"
   },
   "source": [
    "## Does the Connection Work?"
   ]
  },
  {
   "cell_type": "code",
   "execution_count": null,
   "metadata": {
    "Collapsed": "false"
   },
   "outputs": [],
   "source": [
    "use_proxy='Y'\n",
    "proxies = {\n",
    "    'https': os.environ['HTTPS_PROXY'],    \n",
    "    'http': os.environ['HTTP_PROXY']\n",
    "}  "
   ]
  },
  {
   "cell_type": "code",
   "execution_count": null,
   "metadata": {
    "Collapsed": "false"
   },
   "outputs": [],
   "source": [
    "list_url=['https://www.google.com',\n",
    "          'http://www.google.com',\n",
    "          'https://www.example.com',\n",
    "          'http://www.example.com',\n",
    "          'https://github.com/j0hannes/cutter-ng']\n",
    "\n",
    "for url in list_url:\n",
    "    print('')\n",
    "    print('trying to access:'+url)\n",
    "    try:\n",
    "        if use_proxy=='N':\n",
    "            r = requests.get(url)\n",
    "        else:\n",
    "            # SSL deactivated\n",
    "            #r = requests.get(url,proxies=proxies,verify=False)\n",
    "            r = requests.get(url,proxies=proxies,verify=True)\n",
    "            \n",
    "        if r.status_code == requests.codes.ok:\n",
    "            print('=>OK',r.headers['content-type'])\n",
    "        else:\n",
    "            # 407 Proxy Authentication Required\n",
    "            print ('=> ??', r.status_code)\n",
    "    except Exception as inst:\n",
    "        print('=>FAILED')\n",
    "        print(type(inst))    # the exception instance\n",
    "        print(inst.args)     # arguments stored in .args\n",
    "        print(inst)"
   ]
  },
  {
   "cell_type": "code",
   "execution_count": null,
   "metadata": {
    "Collapsed": "false",
    "toc-hr-collapsed": false
   },
   "outputs": [],
   "source": [
    "# Exploratory Data Analysis"
   ]
  },
  {
   "cell_type": "code",
   "execution_count": null,
   "metadata": {
    "Collapsed": "false"
   },
   "outputs": [],
   "source": [
    "client = bigquery.Client()"
   ]
  },
  {
   "cell_type": "markdown",
   "metadata": {
    "Collapsed": "false",
    "toc-hr-collapsed": true,
    "toc-nb-collapsed": true
   },
   "source": [
    "## Tags"
   ]
  },
  {
   "cell_type": "markdown",
   "metadata": {
    "Collapsed": "false"
   },
   "source": [
    "<a href='https://stackoverflow.com/help/tagging' target='_blank'>What are tags, and how should I use them?</a>"
   ]
  },
  {
   "cell_type": "code",
   "execution_count": null,
   "metadata": {
    "Collapsed": "false"
   },
   "outputs": [],
   "source": [
    "query = \"\"\"SELECT\n",
    " *\n",
    "FROM\n",
    "  `bigquery-public-data.stackoverflow.tags`\n",
    "ORDER BY\n",
    "  count desc\"\"\"\n",
    "df_tags = client.query(query).to_dataframe()"
   ]
  },
  {
   "cell_type": "markdown",
   "metadata": {
    "Collapsed": "false"
   },
   "source": [
    "### How are the Tags Distributed?"
   ]
  },
  {
   "cell_type": "code",
   "execution_count": null,
   "metadata": {
    "Collapsed": "false"
   },
   "outputs": [],
   "source": [
    "features = ['count']"
   ]
  },
  {
   "cell_type": "code",
   "execution_count": null,
   "metadata": {
    "Collapsed": "false"
   },
   "outputs": [],
   "source": [
    "df_tags[features].describe()"
   ]
  },
  {
   "cell_type": "code",
   "execution_count": null,
   "metadata": {
    "Collapsed": "false"
   },
   "outputs": [],
   "source": [
    "fig, ax = plt.subplots(1, 1, figsize=(15, 5))\n",
    "\n",
    "astro_hist(df_tags['count'], \n",
    "           bins='blocks', \n",
    "           histtype='stepfilled');\n",
    "\n",
    "ax.set(ylim=[0,600], xlabel='Occurences', ylabel='Number of Tags')"
   ]
  },
  {
   "cell_type": "markdown",
   "metadata": {
    "Collapsed": "false"
   },
   "source": [
    "### Which Tags Are Most Frequent?"
   ]
  },
  {
   "cell_type": "code",
   "execution_count": null,
   "metadata": {
    "Collapsed": "false"
   },
   "outputs": [],
   "source": [
    "df_tags.head()"
   ]
  },
  {
   "cell_type": "code",
   "execution_count": null,
   "metadata": {
    "Collapsed": "false"
   },
   "outputs": [],
   "source": [
    "df_tags.iloc[0:50].plot(x='tag_name', y='count', kind='bar', figsize=(15,5));"
   ]
  },
  {
   "cell_type": "markdown",
   "metadata": {
    "Collapsed": "false"
   },
   "source": [
    "### Cumulative Frequency of the Most Frequent Tags"
   ]
  },
  {
   "cell_type": "code",
   "execution_count": null,
   "metadata": {
    "Collapsed": "false"
   },
   "outputs": [],
   "source": [
    "fig, ax = plt.subplots(1,1, figsize=(15,5))\n",
    "total = df_tags['count'].sum()\n",
    "y_values = []\n",
    "x_values = []\n",
    "\n",
    "for category in range(0, len(df_tags), 100):\n",
    "    value = df_tags['count'].iloc[0:category].sum()\n",
    "    y_values.append((value/total)*100)\n",
    "    x_values.append(category)\n",
    "\n",
    "ax.plot(x_values, y_values, color='#1f77b4')\n",
    "ax.set(xlabel='Tag', ylabel='Frequency [%]')\n",
    "ax.set_xticks(list(range(0,len(df_tags), 4000)) + [len(df_tags)]);"
   ]
  },
  {
   "cell_type": "markdown",
   "metadata": {
    "Collapsed": "true",
    "toc-hr-collapsed": true,
    "toc-nb-collapsed": true
   },
   "source": [
    "## Posts"
   ]
  },
  {
   "cell_type": "code",
   "execution_count": null,
   "metadata": {
    "Collapsed": "false"
   },
   "outputs": [],
   "source": [
    "query = \"\"\"SELECT\n",
    "  *\n",
    "FROM\n",
    "  `axa-ch-machine-learning-dev.nlp_text_classification.stackoverflow_posts`\"\"\"\n",
    "df_posts = client.query(query).to_dataframe()"
   ]
  },
  {
   "cell_type": "code",
   "execution_count": null,
   "metadata": {
    "Collapsed": "false"
   },
   "outputs": [],
   "source": [
    "features = ['title', 'body', 'answer_count', 'comment_count', 'favorite_count', 'score', 'tags', 'view_count']\n",
    "report_features = ['answer_count', 'comment_count', 'favorite_count', 'score', 'tags', 'view_count']"
   ]
  },
  {
   "cell_type": "code",
   "execution_count": null,
   "metadata": {
    "Collapsed": "false"
   },
   "outputs": [],
   "source": [
    "df_posts[features].head()"
   ]
  },
  {
   "cell_type": "markdown",
   "metadata": {
    "Collapsed": "false"
   },
   "source": [
    "### Report"
   ]
  },
  {
   "cell_type": "code",
   "execution_count": null,
   "metadata": {
    "Collapsed": "false"
   },
   "outputs": [],
   "source": [
    "posts_report = df_posts[report_features].profile_report()"
   ]
  },
  {
   "cell_type": "code",
   "execution_count": null,
   "metadata": {
    "Collapsed": "false"
   },
   "outputs": [],
   "source": [
    "posts_report.to_file(output_file='results/01_reports/posts.html')\n",
    "posts_report"
   ]
  },
  {
   "cell_type": "markdown",
   "metadata": {
    "Collapsed": "false"
   },
   "source": [
    "### Code: Wordcloud"
   ]
  },
  {
   "cell_type": "code",
   "execution_count": null,
   "metadata": {
    "Collapsed": "false"
   },
   "outputs": [],
   "source": [
    "df_posts_subset = df_posts[df_posts['tags'] != '']"
   ]
  },
  {
   "cell_type": "code",
   "execution_count": null,
   "metadata": {
    "Collapsed": "false"
   },
   "outputs": [],
   "source": [
    "langs = df_tags['tag_name'].iloc[0:10]"
   ]
  },
  {
   "cell_type": "code",
   "execution_count": null,
   "metadata": {
    "Collapsed": "false"
   },
   "outputs": [],
   "source": [
    "fig = plt.figure(figsize=(15,20))\n",
    "\n",
    "for lang, num in zip(langs, range(0, len(langs))):\n",
    "    temp = df_posts_subset[df_posts_subset['tags'] == lang]\n",
    "    worcloud_temp = create_wordcloud(temp, 'code')\n",
    "    \n",
    "    ax = fig.add_subplot(5, 2, num+1)\n",
    "                         \n",
    "    ax.imshow(worcloud_temp, interpolation='bilinear')\n",
    "    ax.set(title=lang)\n",
    "    ax.axis('off')   "
   ]
  },
  {
   "cell_type": "markdown",
   "metadata": {
    "Collapsed": "false"
   },
   "source": [
    "### Post: Wordcloud"
   ]
  },
  {
   "cell_type": "code",
   "execution_count": null,
   "metadata": {
    "Collapsed": "false"
   },
   "outputs": [],
   "source": [
    "fig = plt.figure(figsize=(15,20))\n",
    "\n",
    "for lang, num in zip(langs, range(0, len(langs))):\n",
    "    temp = df_posts_subset[df_posts_subset['tags'] == lang]\n",
    "    worcloud_temp = create_wordcloud(temp, 'p')\n",
    "    \n",
    "    ax = fig.add_subplot(5, 2, num+1)\n",
    "                         \n",
    "    ax.imshow(worcloud_temp, interpolation='bilinear')\n",
    "    ax.set(title=lang)\n",
    "    ax.axis('off')   "
   ]
  },
  {
   "cell_type": "markdown",
   "metadata": {
    "Collapsed": "false",
    "toc-hr-collapsed": true,
    "toc-nb-collapsed": true
   },
   "source": [
    "## Questions"
   ]
  },
  {
   "cell_type": "code",
   "execution_count": null,
   "metadata": {
    "Collapsed": "false"
   },
   "outputs": [],
   "source": [
    "query = \"\"\"SELECT\n",
    "  *\n",
    "FROM\n",
    "  `axa-ch-machine-learning-dev.nlp_text_classification.stackoverflow_posts_questions_small`\"\"\"\n",
    "df_questions = client.query(query).to_dataframe()"
   ]
  },
  {
   "cell_type": "code",
   "execution_count": null,
   "metadata": {
    "Collapsed": "false"
   },
   "outputs": [],
   "source": [
    "features = ['title', 'body', 'answer_count', 'comment_count', 'favorite_count', 'score', 'tags', 'view_count']\n",
    "report_features = ['answer_count', 'comment_count', 'favorite_count', 'score', 'tags', 'view_count']"
   ]
  },
  {
   "cell_type": "code",
   "execution_count": null,
   "metadata": {
    "Collapsed": "false"
   },
   "outputs": [],
   "source": [
    "df_questions[features].head()"
   ]
  },
  {
   "cell_type": "markdown",
   "metadata": {
    "Collapsed": "false"
   },
   "source": [
    "### Report"
   ]
  },
  {
   "cell_type": "code",
   "execution_count": null,
   "metadata": {
    "Collapsed": "false"
   },
   "outputs": [],
   "source": [
    "questions_report = df_questions[report_features].profile_report()"
   ]
  },
  {
   "cell_type": "code",
   "execution_count": null,
   "metadata": {
    "Collapsed": "false"
   },
   "outputs": [],
   "source": [
    "questions_report.to_file(output_file='results/01_reports/questions.html')\n",
    "questions_report"
   ]
  },
  {
   "cell_type": "markdown",
   "metadata": {
    "Collapsed": "false"
   },
   "source": [
    "### Code: Wordcloud"
   ]
  },
  {
   "cell_type": "code",
   "execution_count": null,
   "metadata": {
    "Collapsed": "false"
   },
   "outputs": [],
   "source": [
    "df_questions_subset = df_questions[df_questions['tags'] != '']"
   ]
  },
  {
   "cell_type": "code",
   "execution_count": null,
   "metadata": {
    "Collapsed": "false"
   },
   "outputs": [],
   "source": [
    "langs = df_tags['tag_name'].iloc[0:10]"
   ]
  },
  {
   "cell_type": "code",
   "execution_count": null,
   "metadata": {
    "Collapsed": "false"
   },
   "outputs": [],
   "source": [
    "fig = plt.figure(figsize=(15,20))\n",
    "\n",
    "for lang, num in zip(langs, range(0, len(langs))):\n",
    "    temp = df_questions_subset[df_questions_subset['tags'] == lang]\n",
    "    worcloud_temp = create_wordcloud(temp, 'code')\n",
    "    \n",
    "    ax = fig.add_subplot(5, 2, num+1)\n",
    "                         \n",
    "    ax.imshow(worcloud_temp, interpolation='bilinear')\n",
    "    ax.set(title=lang)\n",
    "    ax.axis('off')   "
   ]
  },
  {
   "cell_type": "markdown",
   "metadata": {
    "Collapsed": "false"
   },
   "source": [
    "### Posts: Wordcloud"
   ]
  },
  {
   "cell_type": "code",
   "execution_count": null,
   "metadata": {
    "Collapsed": "false"
   },
   "outputs": [],
   "source": [
    "fig = plt.figure(figsize=(15,20))\n",
    "\n",
    "for lang, num in zip(langs, range(0, len(langs))):\n",
    "    temp = df_questions_subset[df_questions_subset['tags'] == lang]\n",
    "    worcloud_temp = create_wordcloud(temp, 'p')\n",
    "    \n",
    "    ax = fig.add_subplot(5, 2, num+1)\n",
    "                         \n",
    "    ax.imshow(worcloud_temp, interpolation='bilinear')\n",
    "    ax.set(title=lang)\n",
    "    ax.axis('off')   "
   ]
  },
  {
   "cell_type": "markdown",
   "metadata": {
    "Collapsed": "false",
    "toc-hr-collapsed": true,
    "toc-nb-collapsed": true
   },
   "source": [
    "## Complete Posts"
   ]
  },
  {
   "cell_type": "code",
   "execution_count": null,
   "metadata": {
    "Collapsed": "false"
   },
   "outputs": [],
   "source": [
    "query = \"\"\"SELECT\n",
    "  *\n",
    "FROM\n",
    "  `axa-ch-machine-learning-dev.nlp_text_classification.stackoverflow_posts_complete`\"\"\"\n",
    "df_posts_complete = client.query(query).to_dataframe()"
   ]
  },
  {
   "cell_type": "code",
   "execution_count": null,
   "metadata": {
    "Collapsed": "false"
   },
   "outputs": [],
   "source": [
    "features = ['title', 'body', 'answer_count', 'comment_count', 'favorite_count', 'score', 'tags', 'view_count']\n",
    "report_features = ['answer_count', 'comment_count', 'favorite_count', 'score', 'tags', 'view_count']"
   ]
  },
  {
   "cell_type": "code",
   "execution_count": null,
   "metadata": {
    "Collapsed": "false"
   },
   "outputs": [],
   "source": [
    "df_posts_complete[features].head()"
   ]
  },
  {
   "cell_type": "markdown",
   "metadata": {
    "Collapsed": "false"
   },
   "source": [
    "### Report"
   ]
  },
  {
   "cell_type": "code",
   "execution_count": null,
   "metadata": {
    "Collapsed": "false"
   },
   "outputs": [],
   "source": [
    "posts_complete_report = df_posts_complete[report_features].profile_report()"
   ]
  },
  {
   "cell_type": "code",
   "execution_count": null,
   "metadata": {
    "Collapsed": "false"
   },
   "outputs": [],
   "source": [
    "posts_complete_report.to_file(output_file='results/01_reports/posts_complete.html')\n",
    "posts_complete_report"
   ]
  },
  {
   "cell_type": "markdown",
   "metadata": {
    "Collapsed": "false"
   },
   "source": [
    "### Code: Wordcloud"
   ]
  },
  {
   "cell_type": "code",
   "execution_count": null,
   "metadata": {
    "Collapsed": "false"
   },
   "outputs": [],
   "source": [
    "df_posts_complete_subset = df_posts_complete[df_posts_complete['tags'] != '']"
   ]
  },
  {
   "cell_type": "code",
   "execution_count": null,
   "metadata": {
    "Collapsed": "false"
   },
   "outputs": [],
   "source": [
    "langs = df_tags['tag_name'].iloc[0:10]"
   ]
  },
  {
   "cell_type": "code",
   "execution_count": null,
   "metadata": {
    "Collapsed": "false"
   },
   "outputs": [],
   "source": [
    "fig = plt.figure(figsize=(15, 20))\n",
    "\n",
    "for lang, num in zip(langs, range(0, len(langs))):\n",
    "    temp = df_posts_complete_subset[df_posts_complete_subset['tags'] == lang]\n",
    "    worcloud_temp = create_wordcloud(temp, 'code')\n",
    "\n",
    "    ax = fig.add_subplot(5, 2, num+1)\n",
    "\n",
    "    ax.imshow(worcloud_temp, interpolation='bilinear')\n",
    "    ax.set(title=lang)\n",
    "    ax.axis('off')"
   ]
  },
  {
   "cell_type": "markdown",
   "metadata": {
    "Collapsed": "false"
   },
   "source": [
    "### Posts: Wordcloud"
   ]
  },
  {
   "cell_type": "code",
   "execution_count": null,
   "metadata": {
    "Collapsed": "false"
   },
   "outputs": [],
   "source": [
    "fig = plt.figure(figsize=(15,20))\n",
    "\n",
    "for lang, num in zip(langs, range(0, len(langs))):\n",
    "    temp = df_posts_complete_subset[df_posts_complete_subset['tags'] == lang]\n",
    "    worcloud_temp = create_wordcloud(temp, 'p')\n",
    "    \n",
    "    ax = fig.add_subplot(5, 2, num+1)\n",
    "                         \n",
    "    ax.imshow(worcloud_temp, interpolation='bilinear')\n",
    "    ax.set(title=lang)\n",
    "    ax.axis('off')"
   ]
  },
  {
   "cell_type": "markdown",
   "metadata": {
    "Collapsed": "false"
   },
   "source": [
    "### How Many Posts Do Have a Codeblock?"
   ]
  },
  {
   "cell_type": "code",
   "execution_count": null,
   "metadata": {
    "Collapsed": "false"
   },
   "outputs": [],
   "source": [
    "df_posts_complete_subset = df_posts_complete[df_posts_complete['tags'] != '']"
   ]
  },
  {
   "cell_type": "code",
   "execution_count": null,
   "metadata": {
    "Collapsed": "false"
   },
   "outputs": [],
   "source": [
    "def code_block_number(string):\n",
    "    soup = BeautifulSoup(string, 'html.parser')\n",
    "    obj_array = soup.find_all('code')\n",
    "\n",
    "    return(len(obj_array))"
   ]
  },
  {
   "cell_type": "code",
   "execution_count": null,
   "metadata": {
    "Collapsed": "false"
   },
   "outputs": [],
   "source": [
    "df_posts_complete_subset['codeblocks'] = df_posts_complete_subset['body'] \\\n",
    "                                            .apply(lambda string: code_block_number(string))"
   ]
  },
  {
   "cell_type": "code",
   "execution_count": null,
   "metadata": {
    "Collapsed": "false"
   },
   "outputs": [],
   "source": [
    "fig, ax = plt.subplots(1, 1, figsize=(15, 5))\n",
    "\n",
    "df_posts_complete_subset['codeblocks'].plot(kind='hist', bins=50, \n",
    "                                            weights=np.zeros_like(df_posts_complete_subset['codeblocks']) \\\n",
    "                                            + 1. / df_posts_complete_subset['codeblocks'].size);\n",
    "\n",
    "ax.set(xlabel='Tag', ylabel='Codeblock Frequency');"
   ]
  },
  {
   "cell_type": "markdown",
   "metadata": {
    "Collapsed": "false"
   },
   "source": [
    "### How Much Tags Are There Per Post?"
   ]
  },
  {
   "cell_type": "code",
   "execution_count": null,
   "metadata": {
    "Collapsed": "false"
   },
   "outputs": [],
   "source": [
    "df_posts_complete_subset['tag_count'] = df_posts_complete_subset['tags'].apply(lambda tags: len(split_tags(tags)))"
   ]
  },
  {
   "cell_type": "code",
   "execution_count": null,
   "metadata": {
    "Collapsed": "false"
   },
   "outputs": [],
   "source": [
    "df_posts_complete_subset['tag_count'].describe()"
   ]
  },
  {
   "cell_type": "code",
   "execution_count": null,
   "metadata": {
    "Collapsed": "false"
   },
   "outputs": [],
   "source": [
    "fig, ax = plt.subplots(1, 1, figsize=(15, 5))\n",
    "\n",
    "ax.hist(df_posts_complete_subset['tag_count'], width=0.5)\n",
    "\n",
    "ax.set(xlabel='Number of Tags per Post', xticks=range(1,6), ylabel='Frequency');"
   ]
  }
 ],
 "metadata": {
  "kernelspec": {
   "display_name": "Python [conda env:env_nlp_text_class]",
   "language": "python",
   "name": "conda-env-env_nlp_text_class-py"
  },
  "language_info": {
   "codemirror_mode": {
    "name": "ipython",
    "version": 3
   },
   "file_extension": ".py",
   "mimetype": "text/x-python",
   "name": "python",
   "nbconvert_exporter": "python",
   "pygments_lexer": "ipython3",
   "version": "3.6.9"
  },
  "toc-autonumbering": true,
  "toc-showmarkdowntxt": true
 },
 "nbformat": 4,
 "nbformat_minor": 4
}
