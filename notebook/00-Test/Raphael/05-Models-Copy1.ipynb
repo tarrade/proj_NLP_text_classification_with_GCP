{
 "cells": [
  {
   "cell_type": "markdown",
   "metadata": {
    "Collapsed": "false"
   },
   "source": [
    "# Environemnt"
   ]
  },
  {
   "cell_type": "code",
   "execution_count": 53,
   "metadata": {
    "Collapsed": "false"
   },
   "outputs": [],
   "source": [
    "import google.cloud.bigquery as bigquery\n",
    "import pandas as pd\n",
    "import matplotlib.pyplot as plt\n",
    "import seaborn as snsn\n",
    "import numpy as np\n",
    "import importlib\n",
    "import subprocess"
   ]
  },
  {
   "cell_type": "code",
   "execution_count": 54,
   "metadata": {
    "Collapsed": "false"
   },
   "outputs": [],
   "source": [
    "from sklearn.preprocessing import LabelBinarizer, MultiLabelBinarizer\n",
    "from sklearn.feature_extraction.text import (\n",
    "    CountVectorizer,\n",
    "    TfidfVectorizer,\n",
    "    TfidfTransformer,\n",
    ")\n",
    "from sklearn.multiclass import OneVsRestClassifier\n",
    "from sklearn.naive_bayes import MultinomialNB\n",
    "from sklearn.linear_model import SGDClassifier\n",
    "from sklearn.pipeline import Pipeline\n",
    "from skmultilearn.problem_transform import LabelPowerset\n",
    "from sklearn.model_selection import train_test_split, GridSearchCV, RandomizedSearchCV\n",
    "from sklearn.metrics import (\n",
    "    classification_report,\n",
    "    confusion_matrix,\n",
    "    accuracy_score,\n",
    "    balanced_accuracy_score,\n",
    "    cohen_kappa_score,\n",
    ")"
   ]
  },
  {
   "cell_type": "code",
   "execution_count": 55,
   "metadata": {
    "Collapsed": "false"
   },
   "outputs": [],
   "source": [
    "import src.utils.evaluation as evaluation\n",
    "import src.model.sklearn_raphael.trainer.model as sklearn_v1"
   ]
  },
  {
   "cell_type": "code",
   "execution_count": 57,
   "metadata": {
    "Collapsed": "false"
   },
   "outputs": [
    {
     "data": {
      "text/plain": [
       "<module 'src.model.sklearn_raphael.trainer.model' from '/home/raphaelprinz92/proj_NLP_text_classification_with_GCP/src/model/sklearn_raphael/trainer/model.py'>"
      ]
     },
     "execution_count": 57,
     "metadata": {},
     "output_type": "execute_result"
    }
   ],
   "source": [
    "import importlib\n",
    "\n",
    "importlib.reload(evaluation)\n",
    "importlib.reload(sklearn_v1)"
   ]
  },
  {
   "cell_type": "markdown",
   "metadata": {
    "Collapsed": "false"
   },
   "source": [
    "# Local Training"
   ]
  },
  {
   "cell_type": "code",
   "execution_count": 13,
   "metadata": {
    "Collapsed": "false"
   },
   "outputs": [
    {
     "name": "stdout",
     "output_type": "stream",
     "text": [
      "Process is terminated.\n"
     ]
    }
   ],
   "source": [
    "%%bash\n",
    "export PYTHONPATH=${PYTHONPATH}:${PYTHONPATH}/src/model/sklearn_raphael/\n",
    "    \n",
    "python -m trainer.task \\\n",
    "--job-dir gs://${BUCKET_NAME}/stackoverflow/sklearn \\\n",
    "--project_id $PROJECT_ID \\\n",
    "--frac 0.05 \\\n",
    "--WE_min_df 1. \\\n",
    "--WE_max_df 1."
   ]
  },
  {
   "cell_type": "markdown",
   "metadata": {
    "Collapsed": "false"
   },
   "source": [
    "# Local Training (Fixed)"
   ]
  },
  {
   "cell_type": "code",
   "execution_count": 32,
   "metadata": {
    "Collapsed": "false"
   },
   "outputs": [],
   "source": [
    "bucket_name = ! echo $BUCKET_NAME\n",
    "project_id = ! echo $PROJECT_ID"
   ]
  },
  {
   "cell_type": "code",
   "execution_count": 39,
   "metadata": {
    "Collapsed": "false"
   },
   "outputs": [],
   "source": [
    "command = '''python -m trainer.task \\\n",
    "--job-dir gs://${{{bucket_name}}}/stackoverflow/sklearn \\\n",
    "--project_id ${project_id} \\\n",
    "--frac 0.05 \\\n",
    "--WE_min_df 1. \\\n",
    "--WE_max_df 1.'''.format(bucket_name=bucket_name[0], project_id=project_id[0])"
   ]
  },
  {
   "cell_type": "code",
   "execution_count": 51,
   "metadata": {
    "Collapsed": "false"
   },
   "outputs": [],
   "source": [
    "process = subprocess.call(command, shell=True)"
   ]
  },
  {
   "cell_type": "code",
   "execution_count": 52,
   "metadata": {
    "Collapsed": "false"
   },
   "outputs": [
    {
     "data": {
      "text/plain": [
       "1"
      ]
     },
     "execution_count": 52,
     "metadata": {},
     "output_type": "execute_result"
    }
   ],
   "source": [
    "process"
   ]
  },
  {
   "cell_type": "markdown",
   "metadata": {
    "Collapsed": "false"
   },
   "source": [
    "# Training on the AI Platform (No Hyperparameter Tuning)"
   ]
  },
  {
   "cell_type": "code",
   "execution_count": 67,
   "metadata": {
    "Collapsed": "false"
   },
   "outputs": [
    {
     "name": "stdout",
     "output_type": "stream",
     "text": [
      "jobId: stackoverflow_sklearn_20191217_100104\n",
      "state: QUEUED\n"
     ]
    },
    {
     "name": "stderr",
     "output_type": "stream",
     "text": [
      "Job [stackoverflow_sklearn_20191217_100104] submitted successfully.\n",
      "Your job is still active. You may view the status of your job with the command\n",
      "\n",
      "  $ gcloud ai-platform jobs describe stackoverflow_sklearn_20191217_100104\n",
      "\n",
      "or continue streaming the logs with the command\n",
      "\n",
      "  $ gcloud ai-platform jobs stream-logs stackoverflow_sklearn_20191217_100104\n"
     ]
    }
   ],
   "source": [
    "%%bash\n",
    "\n",
    "RUNTIME_VERSION=\"1.14\"\n",
    "PYTHON_VERSION=\"3.5\"\n",
    "JOB_DIR=\"gs://${BUCKET_NAME}/stackoverflow/sklearn/${JOBNAME}\"\n",
    "JOB_NAME=stackoverflow_sklearn_$(date +\"%Y%m%d_%H%M%S\")\n",
    "CONFIG=\"$DIR_PROJ/deployment/training/sklearn/custom.yaml\"\n",
    "gcloud ai-platform jobs submit training $JOB_NAME \\\n",
    "  --job-dir $JOB_DIR \\\n",
    "  --package-path $DIR_PROJ/src/model/sklearn_raphael/trainer \\\n",
    "  --module-name trainer.task \\\n",
    "  --region us-central1 \\\n",
    "  --runtime-version=$RUNTIME_VERSION \\\n",
    "  --python-version=$PYTHON_VERSION \\\n",
    "  --config $CONFIG \\\n",
    "  -- \\\n",
    "  --project_id $PROJECT_ID \\\n",
    "  --max_nb_label 1000 \\\n",
    "  --frac 0.05"
   ]
  },
  {
   "cell_type": "markdown",
   "metadata": {
    "Collapsed": "false"
   },
   "source": [
    "# Training on the AI Platform (Hyperparameter Tuning)"
   ]
  },
  {
   "cell_type": "code",
   "execution_count": null,
   "metadata": {
    "Collapsed": "false"
   },
   "outputs": [],
   "source": [
    "%%bash\n",
    "\n",
    "RUNTIME_VERSION=\"1.14\"\n",
    "PYTHON_VERSION=\"3.5\"\n",
    "REGION=\"us-central1\"\n",
    "JOB_NAME=stackoverflow_sklearn_$(date +\"%Y%m%d_%H%M%S\")\n",
    "JOB_DIR=\"gs://${BUCKET_NAME}/stackoverflow/sklearn/${JOBNAME}\"\n",
    "HPTUNING_CONFIG=\"$DIR_PROJ/deployment/hp-tuning/sklearn/hyperparam.yaml\"\n",
    "TRAINER_PACKAGE_PATH=\"$DIR_PROJ/src/model/sklearn/trainer\"\n",
    "MAIN_TRAINER_MODULE=\"trainer.task\"\n",
    "\n",
    "gcloud ai-platform jobs submit training $JOB_NAME \\\n",
    "  --job-dir $JOB_DIR \\\n",
    "  --package-path $TRAINER_PACKAGE_PATH \\\n",
    "  --module-name $MAIN_TRAINER_MODULE \\\n",
    "  --region $REGION \\\n",
    "  --runtime-version=$RUNTIME_VERSION \\\n",
    "  --python-version=$PYTHON_VERSION \\\n",
    "  --config $HPTUNING_CONFIG \\\n",
    "  -- \\\n",
    "  --project_id $PROJECT_ID \\\n",
    "  --max_nb_label 1000 \\\n",
    "  --frac 0.01"
   ]
  }
 ],
 "metadata": {
  "kernelspec": {
   "display_name": "Python [conda env:env_nlp_text_class]",
   "language": "python",
   "name": "conda-env-env_nlp_text_class-py"
  },
  "language_info": {
   "codemirror_mode": {
    "name": "ipython",
    "version": 3
   },
   "file_extension": ".py",
   "mimetype": "text/x-python",
   "name": "python",
   "nbconvert_exporter": "python",
   "pygments_lexer": "ipython3",
   "version": "3.6.9"
  }
 },
 "nbformat": 4,
 "nbformat_minor": 4
}
