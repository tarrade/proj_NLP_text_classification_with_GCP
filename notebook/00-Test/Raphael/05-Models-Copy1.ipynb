{
 "cells": [
  {
   "cell_type": "code",
   "execution_count": 1,
   "metadata": {
    "Collapsed": "false"
   },
   "outputs": [],
   "source": [
    "import google.cloud.bigquery as bigquery\n",
    "import pandas as pd\n",
    "import matplotlib.pyplot as plt\n",
    "import seaborn as snsn\n",
    "import numpy as np\n",
    "import importlib"
   ]
  },
  {
   "cell_type": "code",
   "execution_count": 2,
   "metadata": {
    "Collapsed": "false"
   },
   "outputs": [],
   "source": [
    "from sklearn.preprocessing import LabelBinarizer, MultiLabelBinarizer\n",
    "from sklearn.feature_extraction.text import (\n",
    "    CountVectorizer,\n",
    "    TfidfVectorizer,\n",
    "    TfidfTransformer,\n",
    ")\n",
    "from sklearn.multiclass import OneVsRestClassifier\n",
    "from sklearn.naive_bayes import MultinomialNB\n",
    "from sklearn.linear_model import SGDClassifier\n",
    "from sklearn.pipeline import Pipeline\n",
    "from skmultilearn.problem_transform import LabelPowerset\n",
    "from sklearn.model_selection import train_test_split, GridSearchCV, RandomizedSearchCV\n",
    "from sklearn.metrics import (\n",
    "    classification_report,\n",
    "    confusion_matrix,\n",
    "    accuracy_score,\n",
    "    balanced_accuracy_score,\n",
    "    cohen_kappa_score,\n",
    ")"
   ]
  },
  {
   "cell_type": "code",
   "execution_count": 3,
   "metadata": {
    "Collapsed": "false"
   },
   "outputs": [],
   "source": [
    "import src.utils.evaluation as evaluation\n",
    "import src.model.sklearn_raphael.trainer.model as sklearn_v1"
   ]
  },
  {
   "cell_type": "code",
   "execution_count": 6,
   "metadata": {
    "Collapsed": "false"
   },
   "outputs": [
    {
     "data": {
      "text/plain": [
       "<module 'src.model.sklearn_raphael.trainer.model' from '/home/raphaelprinz92/proj_NLP_text_classification_with_GCP/src/model/sklearn_raphael/trainer/model.py'>"
      ]
     },
     "execution_count": 6,
     "metadata": {},
     "output_type": "execute_result"
    }
   ],
   "source": [
    "import importlib\n",
    "\n",
    "importlib.reload(evaluation)\n",
    "importlib.reload(sklearn_v1)"
   ]
  },
  {
   "cell_type": "markdown",
   "metadata": {
    "Collapsed": "false"
   },
   "source": [
    "# Training locally"
   ]
  },
  {
   "cell_type": "code",
   "execution_count": 8,
   "metadata": {
    "Collapsed": "false"
   },
   "outputs": [
    {
     "name": "stdout",
     "output_type": "stream",
     "text": [
      "Process is terminated.\n"
     ]
    }
   ],
   "source": [
    "%%bash\n",
    "export PYTHONPATH=${PYTHONPATH}:${PYTHONPATH}/src/model/sklearn_raphael/\n",
    "\n",
    "python -m trainer.task \\\n",
    "--job-dir gs://${BUCKET_NAME}/stackoverflow/sklearn \\\n",
    "--project_id $PROJECT_ID \\\n",
    "--max_nb_label 1000 \\\n",
    "--frac 0.2"
   ]
  },
  {
   "cell_type": "code",
   "execution_count": 7,
   "metadata": {
    "Collapsed": "false"
   },
   "outputs": [
    {
     "name": "stdout",
     "output_type": "stream",
     "text": [
      "Process is terminated.\n"
     ]
    }
   ],
   "source": [
    "%%bash\n",
    "export PYTHONPATH=${PYTHONPATH}:${PYTHONPATH}/src/model/sklearn_raphael/\n",
    "\n",
    "python -m trainer.task \\\n",
    "--job-dir gs://${BUCKET_NAME}/stackoverflow/sklearn \\\n",
    "--project_id $PROJECT_ID \\\n",
    "--frac 0.2 \\\n",
    "--WE_min_df 1. \\\n",
    "--WE_max_df 1. \\\n",
    "--FT_norm 'l2' \\"
   ]
  },
  {
   "cell_type": "markdown",
   "metadata": {
    "Collapsed": "true"
   },
   "source": [
    "## Training using AI Platform training"
   ]
  },
  {
   "cell_type": "code",
   "execution_count": null,
   "metadata": {
    "Collapsed": "false"
   },
   "outputs": [],
   "source": [
    "%%bash\n",
    "\n",
    "RUNTIME_VERSION=\"1.14\"\n",
    "PYTHON_VERSION=\"3.5\"\n",
    "JOB_DIR=\"gs://${BUCKET_NAME}/stackoverflow/sklearn/${JOBNAME}\"\n",
    "JOB_NAME=stackoverflow_sklearn_$(date +\"%Y%m%d_%H%M%S\")\n",
    "CONFIG=\"$DIR_PROJ/deployment/training/sklearn/custom.yaml\"\n",
    "gcloud ai-platform jobs submit training $JOB_NAME \\\n",
    "  --job-dir $JOB_DIR \\\n",
    "  --package-path $DIR_PROJ/src/model/sklearn/trainer \\\n",
    "  --module-name trainer.task \\\n",
    "  --region us-central1 \\\n",
    "  --runtime-version=$RUNTIME_VERSION \\\n",
    "  --python-version=$PYTHON_VERSION \\\n",
    "  --config $CONFIG \\\n",
    "  -- \\\n",
    "  --project_id $PROJECT_ID \\\n",
    "  --max_nb_label 1000 \\\n",
    "  --frac 0.01"
   ]
  },
  {
   "cell_type": "code",
   "execution_count": null,
   "metadata": {
    "Collapsed": "false"
   },
   "outputs": [],
   "source": [
    "%%bash\n",
    "gcloud ai-platform jobs stream-logs $JOB_NAME"
   ]
  },
  {
   "cell_type": "markdown",
   "metadata": {
    "Collapsed": "true"
   },
   "source": [
    "## Training and hyper-parameters using AI Platform training"
   ]
  },
  {
   "cell_type": "code",
   "execution_count": null,
   "metadata": {
    "Collapsed": "false"
   },
   "outputs": [],
   "source": [
    "%%bash\n",
    "\n",
    "RUNTIME_VERSION=\"1.14\"\n",
    "PYTHON_VERSION=\"3.5\"\n",
    "REGION=\"us-central1\"\n",
    "JOB_NAME=stackoverflow_sklearn_$(date +\"%Y%m%d_%H%M%S\")\n",
    "JOB_DIR=\"gs://${BUCKET_NAME}/stackoverflow/sklearn/${JOBNAME}\"\n",
    "HPTUNING_CONFIG=\"$DIR_PROJ/deployment/hp-tuning/sklearn/hyperparam.yaml\"\n",
    "TRAINER_PACKAGE_PATH=\"$DIR_PROJ/src/model/sklearn/trainer\"\n",
    "MAIN_TRAINER_MODULE=\"trainer.task\"\n",
    "\n",
    "gcloud ai-platform jobs submit training $JOB_NAME \\\n",
    "  --job-dir $JOB_DIR \\\n",
    "  --package-path $TRAINER_PACKAGE_PATH \\\n",
    "  --module-name $MAIN_TRAINER_MODULE \\\n",
    "  --region $REGION \\\n",
    "  --runtime-version=$RUNTIME_VERSION \\\n",
    "  --python-version=$PYTHON_VERSION \\\n",
    "  --config $HPTUNING_CONFIG \\\n",
    "  -- \\\n",
    "  --project_id $PROJECT_ID \\\n",
    "  --max_nb_label 1000 \\\n",
    "  --frac 0.01"
   ]
  },
  {
   "cell_type": "markdown",
   "metadata": {
    "Collapsed": "true"
   },
   "source": [
    "## Testing local CPU and memory usage"
   ]
  },
  {
   "cell_type": "code",
   "execution_count": null,
   "metadata": {
    "Collapsed": "false"
   },
   "outputs": [],
   "source": [
    "import psutil\n",
    "\n",
    "print(\"### CPU (count) {}\".format(psutil.cpu_count()))\n",
    "print(\"### CPU (count) {}\".format(psutil.cpu_count(logical=False)))\n",
    "print(\"### CPU (count) {}\".format(len(psutil.Process().cpu_affinity())))\n",
    "\n",
    "mem = psutil.virtual_memory()\n",
    "print(\"----> memory  ...\")\n",
    "print(mem)\n",
    "print(\"### Memory total     {:.2f} Gb\".format(mem.total / 1024 ** 3))\n",
    "print(\"### Memory percent   {:.2f} %\".format(mem.percent))\n",
    "print(\"### Memory available {:.2f} Gb\".format(mem.available / 1024 ** 3))\n",
    "print(\"### Memory used      {:.2f} Gb\".format(mem.used / 1024 ** 3))\n",
    "print(\"### Memory free      {:.2f} Gb\".format(mem.free / 1024 ** 3))\n",
    "print(\"### Memory active    {:.2f} Gb\".format(mem.active / 1024 ** 3))\n",
    "print(\"### Memory inactive  {:.2f} Gb\".format(mem.inactive / 1024 ** 3))\n",
    "print(\"### Memory buffers   {:.2f} Gb\".format(mem.buffers / 1024 ** 3))\n",
    "print(\"### Memory cached    {:.2f} Gb\".format(mem.cached / 1024 ** 3))\n",
    "print(\"### Memory shared    {:.2f} Gb\".format(mem.shared / 1024 ** 3))\n",
    "print(\"### Memory slab      {:.2f} Gb\".format(mem.slab / 1024 ** 3))\n",
    "print(\" \")"
   ]
  },
  {
   "cell_type": "code",
   "execution_count": null,
   "metadata": {
    "Collapsed": "false"
   },
   "outputs": [],
   "source": [
    "import pandas as pd\n",
    "\n",
    "int_values = [1, 2, 3, 4, 5]\n",
    "text_values = [\"alpha\", \"beta\", \"gamma\", \"delta\", \"epsilon\"]\n",
    "float_values = [0.0, 0.25, 0.5, 0.75, 1.0]\n",
    "df = pd.DataFrame(\n",
    "    {\"int_col\": int_values, \"text_col\": text_values, \"float_col\": float_values}\n",
    ")"
   ]
  },
  {
   "cell_type": "code",
   "execution_count": null,
   "metadata": {
    "Collapsed": "false"
   },
   "outputs": [],
   "source": [
    "df.info()"
   ]
  },
  {
   "cell_type": "code",
   "execution_count": null,
   "metadata": {
    "Collapsed": "false"
   },
   "outputs": [],
   "source": [
    "sum(df.memory_usage().to_dict().values())"
   ]
  },
  {
   "cell_type": "code",
   "execution_count": null,
   "metadata": {
    "Collapsed": "false"
   },
   "outputs": [],
   "source": [
    "type(log)"
   ]
  },
  {
   "cell_type": "code",
   "execution_count": null,
   "metadata": {
    "Collapsed": "false"
   },
   "outputs": [],
   "source": [
    "import numpy as np\n",
    "\n",
    "row = 1\n",
    "feature = 15000\n",
    "test = np.zeros((row, feature), dtype=int)\n",
    "total_row = 31e6\n",
    "print(\n",
    "    \"memory needed for {:,} entries and {:,} features: {:.2f} Gb\".format(\n",
    "        total_row, feature, (total_row * test.nbytes / 1024 ** 3) / row\n",
    "    )\n",
    ")"
   ]
  },
  {
   "cell_type": "code",
   "execution_count": null,
   "metadata": {
    "Collapsed": "false"
   },
   "outputs": [],
   "source": [
    "query = \"\"\"\n",
    "SELECT\n",
    "  *\n",
    "FROM\n",
    "  `nlp-text-classification.stackoverflow.posts_preprocessed_selection_subset`\n",
    "\"\"\""
   ]
  },
  {
   "cell_type": "code",
   "execution_count": null,
   "metadata": {
    "Collapsed": "false"
   },
   "outputs": [],
   "source": [
    "client = bigquery.Client()\n",
    "df = client.query(query).to_dataframe()"
   ]
  },
  {
   "cell_type": "code",
   "execution_count": null,
   "metadata": {
    "Collapsed": "false"
   },
   "outputs": [],
   "source": [
    "df.dtypes"
   ]
  },
  {
   "cell_type": "code",
   "execution_count": null,
   "metadata": {
    "Collapsed": "false"
   },
   "outputs": [],
   "source": [
    "df[\"tags\"][54000]"
   ]
  },
  {
   "cell_type": "code",
   "execution_count": null,
   "metadata": {
    "Collapsed": "false"
   },
   "outputs": [],
   "source": [
    "type(df['tags'][0]))"
   ]
  },
  {
   "cell_type": "code",
   "execution_count": null,
   "metadata": {
    "Collapsed": "false"
   },
   "outputs": [],
   "source": [
    "df[\"label\"] = df[\"tags\"].apply(lambda row: np.asarray(row))"
   ]
  },
  {
   "cell_type": "code",
   "execution_count": null,
   "metadata": {
    "Collapsed": "false"
   },
   "outputs": [],
   "source": [
    "df.dtypes"
   ]
  },
  {
   "cell_type": "code",
   "execution_count": null,
   "metadata": {
    "Collapsed": "false"
   },
   "outputs": [],
   "source": [
    "type(df[\"label\"][0])"
   ]
  },
  {
   "cell_type": "code",
   "execution_count": null,
   "metadata": {
    "Collapsed": "false"
   },
   "outputs": [],
   "source": [
    "df[0:10][\"tags\"]"
   ]
  },
  {
   "cell_type": "code",
   "execution_count": null,
   "metadata": {
    "Collapsed": "false"
   },
   "outputs": [],
   "source": [
    "from collections import Counter\n",
    "import operator\n",
    "\n",
    "tags = df[\"tags\"].sum()\n",
    "unique_tags = dict(Counter(tags))\n",
    "unique_tags = sorted(unique_tags.items(), key=operator.itemgetter(1))\n",
    "unique_tags.reverse()\n",
    "keep_tags = [x[0] for x in unique_tags][0:10]"
   ]
  },
  {
   "cell_type": "code",
   "execution_count": null,
   "metadata": {
    "Collapsed": "false"
   },
   "outputs": [],
   "source": [
    "nb_label = 100\n",
    "tags = df[\"tags\"].sum()\n",
    "unique_tags = dict(Counter(tags))\n",
    "unique_tags = sorted(unique_tags.items(), key=operator.itemgetter(1))\n",
    "unique_tags.reverse()\n",
    "max_nb_label = len(unique_tags) + 1\n",
    "if nb_label > max_nb_label:\n",
    "    nb_label = max_nb_label\n",
    "keep_tags = [x[0] for x in unique_tags][0:nb_label]"
   ]
  },
  {
   "cell_type": "code",
   "execution_count": null,
   "metadata": {
    "Collapsed": "false"
   },
   "outputs": [],
   "source": [
    "len(unique_tags)"
   ]
  },
  {
   "cell_type": "code",
   "execution_count": null,
   "metadata": {
    "Collapsed": "false"
   },
   "outputs": [],
   "source": [
    "keep_tags"
   ]
  },
  {
   "cell_type": "code",
   "execution_count": null,
   "metadata": {
    "Collapsed": "false"
   },
   "outputs": [],
   "source": [
    "def build_tag(row, list_tags):\n",
    "    # print(row)\n",
    "    for idx, val in enumerate(row):\n",
    "        # print('idx',idx)\n",
    "        # print('val',val)\n",
    "        if val not in list_tags:\n",
    "            # print('delete')\n",
    "            del row[idx]\n",
    "    # print(row)\n",
    "    return row"
   ]
  },
  {
   "cell_type": "code",
   "execution_count": null,
   "metadata": {
    "Collapsed": "false"
   },
   "outputs": [],
   "source": []
  },
  {
   "cell_type": "code",
   "execution_count": null,
   "metadata": {
    "Collapsed": "false"
   },
   "outputs": [],
   "source": [
    "df[\"tags\"][0]"
   ]
  },
  {
   "cell_type": "code",
   "execution_count": null,
   "metadata": {
    "Collapsed": "false"
   },
   "outputs": [],
   "source": [
    "build_tag(df[\"tags\"][54000], keep_tags)"
   ]
  },
  {
   "cell_type": "code",
   "execution_count": null,
   "metadata": {
    "Collapsed": "false"
   },
   "outputs": [],
   "source": [
    "df[\"tags\"] = df[\"tags\"].apply(lambda x: build_tag(x, keep_tags))"
   ]
  },
  {
   "cell_type": "code",
   "execution_count": null,
   "metadata": {
    "Collapsed": "false"
   },
   "outputs": [],
   "source": [
    "print(df[[\"tags\"]])"
   ]
  },
  {
   "cell_type": "code",
   "execution_count": null,
   "metadata": {
    "Collapsed": "false"
   },
   "outputs": [],
   "source": [
    "df[\"label\"] = df[\"tags\"].apply(lambda x: x[0] if len(x) > 0 else \"other-tag\")"
   ]
  },
  {
   "cell_type": "code",
   "execution_count": null,
   "metadata": {
    "Collapsed": "false"
   },
   "outputs": [],
   "source": [
    "len(df[\"label\"].unique())"
   ]
  },
  {
   "cell_type": "code",
   "execution_count": null,
   "metadata": {
    "Collapsed": "false"
   },
   "outputs": [],
   "source": [
    "len(df[\"label\"].unique())"
   ]
  },
  {
   "cell_type": "code",
   "execution_count": null,
   "metadata": {
    "Collapsed": "false"
   },
   "outputs": [],
   "source": [
    "df[\"tags\"].values"
   ]
  },
  {
   "cell_type": "code",
   "execution_count": null,
   "metadata": {
    "Collapsed": "false"
   },
   "outputs": [],
   "source": [
    "len(df[\"tags\"])"
   ]
  },
  {
   "cell_type": "code",
   "execution_count": null,
   "metadata": {
    "Collapsed": "false"
   },
   "outputs": [],
   "source": [
    "df[[\"tags\"]].to_numpy()"
   ]
  },
  {
   "cell_type": "code",
   "execution_count": null,
   "metadata": {
    "Collapsed": "false"
   },
   "outputs": [],
   "source": [
    "tags = df[\"tags\"].sum()"
   ]
  },
  {
   "cell_type": "code",
   "execution_count": null,
   "metadata": {
    "Collapsed": "false"
   },
   "outputs": [],
   "source": [
    "print(len(df[\"tags\"]))"
   ]
  },
  {
   "cell_type": "code",
   "execution_count": null,
   "metadata": {
    "Collapsed": "false"
   },
   "outputs": [],
   "source": [
    "print(len(tags))"
   ]
  },
  {
   "cell_type": "code",
   "execution_count": null,
   "metadata": {
    "Collapsed": "false"
   },
   "outputs": [],
   "source": [
    "from collections import Counter, OrderedDict\n",
    "\n",
    "a = dict(Counter(tags))"
   ]
  },
  {
   "cell_type": "code",
   "execution_count": null,
   "metadata": {
    "Collapsed": "false"
   },
   "outputs": [],
   "source": [
    "import operator\n",
    "\n",
    "sorted_x = sorted(a.items(), key=operator.itemgetter(1))"
   ]
  },
  {
   "cell_type": "code",
   "execution_count": null,
   "metadata": {
    "Collapsed": "false"
   },
   "outputs": [],
   "source": [
    "sorted_x.reverse()"
   ]
  },
  {
   "cell_type": "code",
   "execution_count": null,
   "metadata": {
    "Collapsed": "false"
   },
   "outputs": [],
   "source": [
    "[x[0] for x in sorted_x]"
   ]
  },
  {
   "cell_type": "code",
   "execution_count": null,
   "metadata": {
    "Collapsed": "false"
   },
   "outputs": [],
   "source": [
    "list_items"
   ]
  },
  {
   "cell_type": "code",
   "execution_count": null,
   "metadata": {
    "Collapsed": "false"
   },
   "outputs": [],
   "source": [
    "sorted_x"
   ]
  },
  {
   "cell_type": "code",
   "execution_count": null,
   "metadata": {
    "Collapsed": "false"
   },
   "outputs": [],
   "source": [
    "sorted(a.items(), key=lambda x: x[1])"
   ]
  },
  {
   "cell_type": "code",
   "execution_count": null,
   "metadata": {
    "Collapsed": "false"
   },
   "outputs": [],
   "source": [
    "sorted(a, key=lambda x: a[x])"
   ]
  },
  {
   "cell_type": "code",
   "execution_count": null,
   "metadata": {
    "Collapsed": "false"
   },
   "outputs": [],
   "source": [
    "row = [1, 2, 3, 4]"
   ]
  },
  {
   "cell_type": "code",
   "execution_count": null,
   "metadata": {
    "Collapsed": "false"
   },
   "outputs": [],
   "source": [
    "del row[1, 4]"
   ]
  },
  {
   "cell_type": "code",
   "execution_count": null,
   "metadata": {
    "Collapsed": "false"
   },
   "outputs": [],
   "source": [
    "%env var \"5\""
   ]
  },
  {
   "cell_type": "code",
   "execution_count": null,
   "metadata": {
    "Collapsed": "false"
   },
   "outputs": [],
   "source": [
    "%%bash \n",
    "echo $var"
   ]
  }
 ],
 "metadata": {
  "kernelspec": {
   "display_name": "Python [conda env:env_nlp_text_class]",
   "language": "python",
   "name": "conda-env-env_nlp_text_class-py"
  },
  "language_info": {
   "codemirror_mode": {
    "name": "ipython",
    "version": 3
   },
   "file_extension": ".py",
   "mimetype": "text/x-python",
   "name": "python",
   "nbconvert_exporter": "python",
   "pygments_lexer": "ipython3",
   "version": "3.6.9"
  }
 },
 "nbformat": 4,
 "nbformat_minor": 4
}
