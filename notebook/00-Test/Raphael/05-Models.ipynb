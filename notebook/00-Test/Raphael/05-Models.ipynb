{
 "cells": [
  {
   "cell_type": "code",
   "execution_count": null,
   "metadata": {
    "Collapsed": "false"
   },
   "outputs": [],
   "source": [
    "x2 = df[\"code_body\"] + df[\"title\"]\n",
    "y2 = df[\"tags\"].apply(lambda row: \" \".join(row))"
   ]
  },
  {
   "cell_type": "code",
   "execution_count": null,
   "metadata": {
    "Collapsed": "false"
   },
   "outputs": [],
   "source": [
    "x2_train, x2_test, y2_train, y2_test = train_test_split(x2, y2, test_size=0.2, stratify=y, random_state=30)"
   ]
  },
  {
   "cell_type": "code",
   "execution_count": null,
   "metadata": {
    "Collapsed": "false"
   },
   "outputs": [],
   "source": [
    "estimators2 = [\n",
    "    (\"tfidf\", TfidfVectorizer(tokenizer=lambda string: string.split())),\n",
    "    (\"clf\", OneVsRestClassifier(MultinomialNB(), n_jobs=1)),\n",
    "]\n",
    "parameters2 = {\n",
    "    \"tfidf__min_df\": np.arange(10, 30, 10),\n",
    "    \"tfidf__max_df\": np.arange(0.75, 0.9, 0.05),\n",
    "    \"tfidf__ngram_range\": [(1, 1), (2, 2), (3, 3)],\n",
    "    \"clf__estimator__alpha\": np.arange(0.2, 1, 0.2),\n",
    "}"
   ]
  },
  {
   "cell_type": "code",
   "execution_count": null,
   "metadata": {
    "Collapsed": "false"
   },
   "outputs": [],
   "source": [
    "p2 = Pipeline(estimators2)\n",
    "grid2 = RandomizedSearchCV(\n",
    "    p2, param_distributions=parameters2, n_iter=20, cv=3, n_jobs=-1\n",
    ")"
   ]
  },
  {
   "cell_type": "code",
   "execution_count": null,
   "metadata": {
    "Collapsed": "false"
   },
   "outputs": [],
   "source": [
    "score2 = grid2.fit(x2_train, y2_train)"
   ]
  },
  {
   "cell_type": "code",
   "execution_count": null,
   "metadata": {
    "Collapsed": "false"
   },
   "outputs": [],
   "source": [
    "y2_pred = grid2.predict(x2_test)"
   ]
  },
  {
   "cell_type": "code",
   "execution_count": null,
   "metadata": {
    "Collapsed": "false"
   },
   "outputs": [],
   "source": [
    "print(classification_report(y2_test, y2_pred))"
   ]
  },
  {
   "cell_type": "code",
   "execution_count": null,
   "metadata": {
    "Collapsed": "false"
   },
   "outputs": [],
   "source": [
    "cm = confusion_matrix(y2_test, y2_pred)\n",
    "evaluation.plot_confusion_matrix(cm=cm, classes=range(1, 6), normalize=True)"
   ]
  },
  {
   "cell_type": "code",
   "execution_count": null,
   "metadata": {
    "Collapsed": "false"
   },
   "outputs": [],
   "source": [
    "print(\"Accuracy:\", accuracy_score(y2_test, y2_pred))\n",
    "print(\"Balanced accuracy:\", balanced_accuracy_score(y2_test, y2_pred))\n",
    "print(\"Cohen's Cappa Coefficient\", cohen_kappa_score(y2_test, y2_pred))"
   ]
  },
  {
   "cell_type": "code",
   "execution_count": null,
   "metadata": {
    "Collapsed": "false"
   },
   "outputs": [],
   "source": [
    "x2 = df[\"code_body\"]\n",
    "y2 = MultiLabelBinarizer().fit_transform(df[\"tags\"].tolist())"
   ]
  },
  {
   "cell_type": "code",
   "execution_count": null,
   "metadata": {
    "Collapsed": "false"
   },
   "outputs": [],
   "source": [
    "x2_train, x2_test, y2_train, y2_test = train_test_split(\n",
    "    x2, y2, test_size=0.2, random_state=30\n",
    ")"
   ]
  },
  {
   "cell_type": "code",
   "execution_count": null,
   "metadata": {
    "Collapsed": "false"
   },
   "outputs": [],
   "source": [
    "estimators = [\n",
    "    (\"tfidf\", TfidfVectorizer(tokenizer=lambda string: string.split())),\n",
    "    (\"clf\", OneVsRestClassifier(SGDClassifier(n_jobs=-1), n_jobs=-1)),\n",
    "]\n",
    "parameters = {\n",
    "    \"tfidf__min_df\": np.arange(0.01, 0.05, 0.01),\n",
    "    \"tfidf__max_df\": np.arange(0.75, 0.9, 0.05),\n",
    "    \"tfidf__ngram_range\": [(1, 1), (2, 2), (3, 3)],\n",
    "    \"clf__estimator__alpha\": (1e-2, 1e-3),\n",
    "}"
   ]
  },
  {
   "cell_type": "code",
   "execution_count": null,
   "metadata": {
    "Collapsed": "false"
   },
   "outputs": [],
   "source": [
    "p2 = Pipeline(estimators)\n",
    "grid2 = RandomizedSearchCV(\n",
    "    p, param_distributions=parameters, n_iter=20, cv=3, scoring=\"roc_auc\", n_jobs=-1\n",
    ")"
   ]
  },
  {
   "cell_type": "code",
   "execution_count": null,
   "metadata": {
    "Collapsed": "false"
   },
   "outputs": [],
   "source": [
    "score2 = grid.fit(x2_train, y2_train)"
   ]
  },
  {
   "cell_type": "code",
   "execution_count": null,
   "metadata": {
    "Collapsed": "false"
   },
   "outputs": [],
   "source": [
    "y2_pred = grid.predict(x_test)"
   ]
  },
  {
   "cell_type": "code",
   "execution_count": null,
   "metadata": {
    "Collapsed": "false"
   },
   "outputs": [],
   "source": [
    "print(classification_report(y2_test, y2_pred))\n",
    "print(accuracy_score(y2_test, y2_pred))"
   ]
  },
  {
   "cell_type": "markdown",
   "metadata": {
    "Collapsed": "false"
   },
   "source": [
    "## Training locally"
   ]
  },
  {
   "cell_type": "code",
   "execution_count": null,
   "metadata": {
    "Collapsed": "false"
   },
   "outputs": [],
   "source": [
    "%%bash\n",
    "export PYTHONPATH=${PYTHONPATH}:${PYTHONPATH}/src/model/sklearn/\n",
    "\n",
    "python -m trainer.task \\\n",
    "--job-dir gs://${BUCKET_NAME}/stackoverflow/sklearn \\\n",
    "--project_id $PROJECT_ID \\\n",
    "--frac 0.001"
   ]
  },
  {
   "cell_type": "code",
   "execution_count": null,
   "metadata": {
    "Collapsed": "false"
   },
   "outputs": [],
   "source": [
    "%%bash\n",
    "export PYTHONPATH=${PYTHONPATH}:${PYTHONPATH}/src/model/sklearn/\n",
    "\n",
    "python -m trainer.task \\\n",
    "--job-dir gs://${BUCKET_NAME}/stackoverflow/sklearn \\\n",
    "--project_id $PROJECT_ID \\\n",
    "--WE_min_df 0.3 \\\n",
    "--WE_max_df 1.0 \\\n",
    "--FT_norm 'l2' \\\n",
    "--M_alpha 0.56218373775482178 "
   ]
  },
  {
   "cell_type": "markdown",
   "metadata": {
    "Collapsed": "false"
   },
   "source": [
    "## Training using AI Platform training"
   ]
  },
  {
   "cell_type": "code",
   "execution_count": null,
   "metadata": {
    "Collapsed": "false"
   },
   "outputs": [],
   "source": [
    "%%bash\n",
    "\n",
    "RUNTIME_VERSION=\"1.14\"\n",
    "PYTHON_VERSION=\"3.5\"\n",
    "JOB_NAME=stackoverflow_sklearn_$(date +\"%Y%m%d_%H%M%S\")\n",
    "JOB_DIR=\"gs://${BUCKET_NAME}/stackoverflow/sklearn/${JOBNAME}\"\n",
    "JOB_NAME=stackoverflow_sklearn_$(date +\"%Y%m%d_%H%M%S\")\n",
    "gcloud ai-platform jobs submit training $JOB_NAME \\\n",
    "  --job-dir $JOB_DIR \\\n",
    "  --package-path $DIR_PROJ/src/model/sklearn/trainer \\\n",
    "  --module-name trainer.task \\\n",
    "  --region us-central1 \\\n",
    "  --runtime-version=$RUNTIME_VERSION \\\n",
    "  --python-version=$PYTHON_VERSION \\\n",
    "  -- \\\n",
    "  --project_id $PROJECT_ID \\\n",
    "  --frac 0.002"
   ]
  },
  {
   "cell_type": "code",
   "execution_count": null,
   "metadata": {
    "Collapsed": "false"
   },
   "outputs": [],
   "source": [
    "%%bash\n",
    "gcloud ai-platform jobs stream-logs $JOB_NAME"
   ]
  },
  {
   "cell_type": "markdown",
   "metadata": {
    "Collapsed": "false"
   },
   "source": [
    "## Training and hyper-parameters using AI Platform training"
   ]
  },
  {
   "cell_type": "code",
   "execution_count": null,
   "metadata": {
    "Collapsed": "false"
   },
   "outputs": [],
   "source": [
    "%%bash\n",
    "\n",
    "RUNTIME_VERSION=\"1.14\"\n",
    "PYTHON_VERSION=\"3.5\"\n",
    "SCALE_TIER=STANDARD_1\n",
    "REGION=\"us-central1\"\n",
    "JOB_NAME=stackoverflow_sklearn_$(date +\"%Y%m%d_%H%M%S\")\n",
    "JOB_DIR=\"gs://${BUCKET_NAME}/stackoverflow/sklearn/${JOBNAME}\"\n",
    "HPTUNING_CONFIG=\"$DIR_PROJ/hp-tuning/sklearn/hyperparam.yaml\"\n",
    "TRAINER_PACKAGE_PATH=\"$DIR_PROJ/src/model/sklearn/trainer\"\n",
    "MAIN_TRAINER_MODULE=\"trainer.task\"\n",
    "\n",
    "\n",
    "gcloud ai-platform jobs submit training $JOB_NAME \\\n",
    "  --job-dir $JOB_DIR \\\n",
    "  --package-path $TRAINER_PACKAGE_PATH \\\n",
    "  --module-name $MAIN_TRAINER_MODULE \\\n",
    "  --region $REGION \\\n",
    "  --runtime-version=$RUNTIME_VERSION \\\n",
    "  --python-version=$PYTHON_VERSION \\\n",
    "  --scale-tier $SCALE_TIER \\\n",
    "  --config $HPTUNING_CONFIG \\\n",
    "  -- \\\n",
    "  --project_id $PROJECT_ID"
   ]
  },
  {
   "cell_type": "markdown",
   "metadata": {
    "Collapsed": "false"
   },
   "source": [
    "# Local Tests"
   ]
  },
  {
   "cell_type": "code",
   "execution_count": 3,
   "metadata": {
    "Collapsed": "false"
   },
   "outputs": [],
   "source": [
    "import src.model.sklearn_raphael.trainer.model as model"
   ]
  },
  {
   "cell_type": "code",
   "execution_count": null,
   "metadata": {
    "Collapsed": "false"
   },
   "outputs": [],
   "source": [
    "model.train_and_evaluate(0.2, 0.4, 0.75, 20, 'l2', 0.2)"
   ]
  },
  {
   "cell_type": "code",
   "execution_count": null,
   "metadata": {
    "Collapsed": "false"
   },
   "outputs": [],
   "source": []
  }
 ],
 "metadata": {
  "kernelspec": {
   "display_name": "Python [conda env:env_nlp_text_class]",
   "language": "python",
   "name": "conda-env-env_nlp_text_class-py"
  },
  "language_info": {
   "codemirror_mode": {
    "name": "ipython",
    "version": 3
   },
   "file_extension": ".py",
   "mimetype": "text/x-python",
   "name": "python",
   "nbconvert_exporter": "python",
   "pygments_lexer": "ipython3",
   "version": "3.6.9"
  }
 },
 "nbformat": 4,
 "nbformat_minor": 4
}
